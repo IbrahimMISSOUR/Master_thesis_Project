{
 "cells": [
  {
   "cell_type": "markdown",
   "metadata": {
    "id": "1lFExaMa-Wp_"
   },
   "source": [
    "## Imports"
   ]
  },
  {
   "cell_type": "code",
   "execution_count": 1,
   "metadata": {
    "id": "3SsyRtTtLiOS"
   },
   "outputs": [],
   "source": [
    "import time\n",
    "import pyswarms as ps\n",
    "import numpy as np\n",
    "import matplotlib\n",
    "import matplotlib.pyplot as plt\n",
    "import matplotlib.gridspec as gridspec\n",
    "from mpl_toolkits.mplot3d import Axes3D\n",
    "from matplotlib.animation import FuncAnimation\n",
    "from base64 import b64encode\n",
    "from IPython.display import HTML\n",
    "plt.style.use('ggplot')\n",
    "from numba import jit, njit"
   ]
  },
  {
   "cell_type": "markdown",
   "metadata": {
    "id": "a0rgqc5vEsBc"
   },
   "source": [
    "# jitted"
   ]
  },
  {
   "cell_type": "code",
   "execution_count": 2,
   "metadata": {
    "id": "916gi47nZ7VL"
   },
   "outputs": [],
   "source": [
    "@njit\n",
    "def S(z: float, phi: np.array([float])) -> float:\n",
    "  if z <= abs(phi[6]):\n",
    "    return 0\n",
    "  if z >= abs(phi[5]):\n",
    "    return 1\n",
    "  else:\n",
    "    return 0.5 - 0.5 * np.tanh(1/(z-abs(phi[5]))+1/(z-abs(phi[6])))\n"
   ]
  },
  {
   "cell_type": "code",
   "execution_count": 3,
   "metadata": {
    "id": "0VjQGTSgZ7VL"
   },
   "outputs": [],
   "source": [
    "@njit\n",
    "def Al(v: np.array([float]), phi: np.array([float]), i: int) -> np.array([float]):\n",
    "  res = np.zeros(int(phi[16]))\n",
    "  \n",
    "  for j in range(int(phi[15]+1)):\n",
    "    if j == i:\n",
    "      continue\n",
    "    res += 1/(phi[15]+1) * (abs(phi[2]) / ((1 + np.linalg.norm(v[i]-v[j]) ** 2)) ** abs(phi[4]))* (v[int(phi[15]+1)+j]-v[int(phi[15]+1)+i]) * S(np.dot((v[j]-v[i])/np.linalg.norm(v[i]-v[j]), v[int(phi[15]+1)+i]/np.linalg.norm(v[int(phi[15]+1)+i])), phi)\n",
    "      \n",
    "  return res"
   ]
  },
  {
   "cell_type": "code",
   "execution_count": 4,
   "metadata": {
    "id": "1ouL-YK3-6MF"
   },
   "outputs": [],
   "source": [
    "@jit\n",
    "def F_0(v: np.array([float]), phi: np.array([float]), i: int) -> np.array([float]):\n",
    "  if i == 0:\n",
    "    return np.zeros(int(phi[16]))\n",
    "#   print('\\n(**)i = {}\\n phi[3]= {},\\n phi[7]= {},\\n phi[8]= {},\\n phi[9]= {},\\n phi[10]= {},\\n norm = {},\\n exp_7_8 = {},\\n exp_9_10 = {},\\n vec_uni = {}'.format(\n",
    "#     i, phi[3], phi[7], phi[8], phi[9], phi[10], np.linalg.norm(v[i]- v[0]) , phi[7]/phi[8] * np.exp(-np.linalg.norm(v[i]- v[0])/phi[8]), phi[9]/phi[10] * np.exp(-np.linalg.norm(v[i]- v[0])/phi[10]), (v[i]- v[0])/np.linalg.norm(v[i]- v[0])))\n",
    "  \n",
    "  return - abs(phi[3]) * (v[i]- v[0])/np.linalg.norm(v[i]- v[0]) * (abs(phi[7]/phi[8]) * np.exp(-np.linalg.norm(v[i]- v[0])/abs(phi[8])) - abs(phi[9]/phi[10]) * np.exp(-np.linalg.norm(v[i]- v[0])/abs(phi[10])))"
   ]
  },
  {
   "cell_type": "code",
   "execution_count": 5,
   "metadata": {
    "id": "xmBc2mzHZ7VM"
   },
   "outputs": [],
   "source": [
    "@njit\n",
    "def F(v: np.array([float]), phi: np.array([float]), i: int) -> np.array([float]):\n",
    "  res = np.zeros(int(phi[16]))\n",
    "  \n",
    "  for j in range(int(phi[15]+1)):\n",
    "    if j == i:\n",
    "      continue\n",
    "    res += -1/(phi[15]+1) * (v[i]- v[j])/np.linalg.norm(v[i]- v[j]) * (abs(phi[11]/phi[12]) * np.exp(-np.linalg.norm(v[i]- v[j])/abs(phi[12])) - abs(phi[13]/phi[14]) * np.exp(-np.linalg.norm(v[i]- v[j])/abs(phi[14])))\n",
    "      \n",
    "  return res"
   ]
  },
  {
   "cell_type": "code",
   "execution_count": 6,
   "metadata": {
    "cellView": "code",
    "id": "dohNVsD_Z7VM"
   },
   "outputs": [],
   "source": [
    "@jit\n",
    "def f(v: np.array([float]), phi: np.array([float])) -> np.array([float]):\n",
    "\n",
    "  res = np.zeros((int(2*phi[15]+2),int(phi[16])))\n",
    "\n",
    "  for i in range(int(phi[15]+1)):\n",
    "#     print('\\n(**)i = {}\\n phi[0]= {},\\n phi[1]= {},\\n norm = {},\\n v_i = {},\\n F_i = {},\\n Al = {},\\n F_0 = {}'.format(\n",
    "#     i, phi[0], phi[1], np.linalg.norm(v[int(phi[15]+1)+i]) ** 2, v[int(phi[15]+1)+i], F(v, phi, i), Al(v, phi, i), F_0(v, phi, i)))\n",
    "    res[i] = v[int(phi[15]+1)+i]\n",
    "    res[int(phi[15]+1)+i] = (abs(phi[0]) - abs(phi[1]) * np.linalg.norm(v[int(phi[15]+1)+i]) ** 2) * v[int(phi[15]+1)+i] + F(v, phi, i) + Al(v, phi, i) + F_0(v, phi, i)\n",
    "\n",
    "  return res"
   ]
  },
  {
   "cell_type": "code",
   "execution_count": 7,
   "metadata": {
    "id": "ufW2WYHQNF08"
   },
   "outputs": [],
   "source": [
    "def run(q: np.array([float]), phi: np.array([float]), t: int, h: float, save = False, file ='animation') -> np.array([float]):\n",
    "\n",
    "  r = int( t/h ) \n",
    "\n",
    "  res = np.zeros((r+1,4))  \n",
    "\n",
    "  Q = np.zeros((r+2,int(2*phi[15]+2),int(phi[16])))\n",
    "  Q[0] = q\n",
    "\n",
    "  for j in range(r+1):\n",
    "    K_1 = f(Q[j], phi)\n",
    "    K_2 = f(Q[j] + h/2 * K_1, phi)\n",
    "    K_3 = f(Q[j] + h/2 * K_2, phi)\n",
    "    K_4 = f(Q[j] + h * K_2, phi)\n",
    "    Q[j+1] = Q[j] + h/6 * (K_1 + 2*K_2 + 2*K_3 + K_4)\n",
    "\n",
    "\n",
    "  if save :\n",
    "    \n",
    "    for j in range(r+1):\n",
    "    \n",
    "        res[j, 0] = X_t(Q[j], phi)\n",
    "        res[j, 1] = V_t(Q[j], phi)\n",
    "        res[j, 2] = mean_x(Q[j], phi)\n",
    "        res[j, 3] = mean_v(Q[j], phi)\n",
    "    \n",
    "    fig = plt.figure(constrained_layout=True, figsize = (16, 9))\n",
    "    gs = fig.add_gridspec(4, 3)\n",
    "\n",
    "\n",
    "    if phi[16] == 2:\n",
    "      ax0 = fig.add_subplot(gs[:,0:2])\n",
    "\n",
    "      p01 = ax0.scatter(q[0,0], q[0,1], marker=\"o\", color = \"b\")\n",
    "      p02 = ax0.quiver(q[0,0], q[0,1], q[phi[15]+1,0] / (np.sqrt(q[phi[15]+1,0]**2+q[phi[15]+1,1]**2)), q[phi[15]+1,1] / (np.sqrt(q[phi[15]+1,0]**2+q[phi[15]+1,1]**2)), width= 0.001, headwidth=3, headlength=5, color='b')\n",
    "\n",
    "      p03 = ax0.scatter(q[1:phi[15]+1,0], q[1:phi[15]+1,1], marker=\"o\", color = \"r\")\n",
    "      p04 = ax0.quiver(q[1:phi[15]+1,0], q[1:phi[15]+1,1], q[phi[15]+2:,0]/(np.sqrt(q[phi[15]+2:,0]**2+q[phi[15]+2:,1]**2)), q[phi[15]+2:,1]/(np.sqrt(q[phi[15]+2:,0]**2+q[phi[15]+2:,1]**2)), width= 0.001, headwidth=3, headlength=5)\n",
    "    else:\n",
    "      ax0 = fig.add_subplot(gs[:,0:2], projection='3d') \n",
    "      ax0.set_zlim(Q[:,:phi[15]+1,2].min() - 3,Q[:,:phi[15]+1,2].max() + 3) \n",
    "\n",
    "      p01 = ax0.scatter(q[0,0:1], q[0,1:2], q[0,-1], marker=\"*\", color = \"b\" )\n",
    "      # nm1 = np.sqrt(q[phi[15]+1,0]**2 + q[phi[15]+1,1]**2 + q[phi[15]+1,2]**2)\n",
    "      p02 = ax0.quiver(q[0,0], q[0,1], q[0,2], q[phi[15]+1,0], q[phi[15]+1,1], q[phi[15]+1,2], length=1, normalize =True, colors='b', linewidth =1)\n",
    "\n",
    "      # nm2 = np.sqrt(q[phi[15]+2:,0]**2 + q[phi[15]+2:,1]**2 + q[phi[15]+2:,2]**2)\n",
    "      p03 = ax0.scatter(q[1:phi[15]+1,0:1], q[1:phi[15]+1,1:2], q[1:phi[15]+1,-1], marker=\"o\", color = \"r\")\n",
    "      p04 = ax0.quiver(q[1:phi[15]+1,0], q[1:phi[15]+1,1], q[1:phi[15]+1,2], q[phi[15]+2:,0], q[phi[15]+2:,1], q[phi[15]+2:,2], length=1, normalize =True, colors='k', linewidth =1)\n",
    "\n",
    "      def quiver_data_to_segments(X, Y, Z, u, v, w, length=1):\n",
    "        segments = (X, Y, Z, X+v*length, Y+u*length, Z+w*length)\n",
    "        segments = np.array(segments).reshape(6,-1)\n",
    "        return [[[x, y, z], [u, v, w]] for x, y, z, u, v, w in zip(*list(segments))]\n",
    "\n",
    "    ax0.set_xlim(Q[:,:phi[15]+1,0].min() - 5,Q[:,:phi[15]+1,0].max() + 5)\n",
    "    ax0.set_ylim(Q[:,:phi[15]+1,1].min() - 3,Q[:,:phi[15]+1,1].max() + 3)\n",
    "      \n",
    "    ax1 = fig.add_subplot(gs[0, 2])\n",
    "    p1 = ax1.plot([], [], 'b')[0]\n",
    "\n",
    "    ax1.set_xlabel(\"time\")\n",
    "    ax1.set_ylabel(\"X(t)\")\n",
    "    ax1.set_title('$X(t)$')\n",
    "    ax1.set_xlim(0,t+1)\n",
    "    ax1.set_ylim(res[:, 0].min() -2, res[:, 0].max() + 3)\n",
    "\n",
    "    ax2 = fig.add_subplot(gs[1, 2])\n",
    "    p2 = ax2.plot([],[], 'b')[0]\n",
    "    ax2.set_xlim(0,t+1)\n",
    "    ax2.set_ylim(min(res[:, 1].min(), dx_lim) -2, max(res[:, 1].max(), dx_lim) + 3)\n",
    "    ax2.set_xlabel(\"time\")\n",
    "    ax2.set_ylabel(\"V(t)\")\n",
    "    ax2.set_title('$V(t)$')\n",
    "\n",
    "    ax3 = fig.add_subplot(gs[2, 2])\n",
    "    p3 = ax3.plot([], [],'b--', label='$sum(|x_i - x_0|)\\;/\\;(N+1)$')[0]\n",
    "    ax3.plot(np.arange(t+1), dx_lim*np.ones(t+1), 'k', label='$ln(C^0_rl^0_a/(l^0_rC^0_a))*(l^0_al^0_r/(l^0_a-l^0_r))$')\n",
    "    ax3.set_xlim(0,t+1)\n",
    "    ax3.set_ylim(min(res[:, 2].min(), v_lim) - 2, max(res[:, 2].max(), v_lim) + 3)\n",
    "    ax3.set_xlabel(\"time\")\n",
    "    ax3.set_ylabel(\"Distance\")\n",
    "    ax3.set_title('The distance between the agents and the leader')\n",
    "    ax3.legend()\n",
    "\n",
    "    ax4 = fig.add_subplot(gs[3, 2])\n",
    "    p4 = ax4.plot([], [], 'b--', label='$sum(|v_i|)\\;/\\;(N+1)$')[0]\n",
    "    ax4.plot(np.arange(t+1), v_lim*np.ones(t+1), 'k', label='$sqrt((alpha)/(beta))$')\n",
    "    ax4.set_xlim(0,t+1)\n",
    "    ax4.set_ylim(res[:, 3].min() - 2, res[:, 3].max() + 3)\n",
    "    ax4.set_xlabel(\"time\")\n",
    "    ax4.set_ylabel(\"mean(|v|)\")\n",
    "    ax4.set_title('The mean norm of velocity')\n",
    "    ax4.legend()\n",
    "\n",
    "    def animate(i):  \n",
    "        time = np.linspace(0,i*h,i+1)\n",
    "\n",
    "        if phi[16]==2:\n",
    "\n",
    "          p01.set_offsets(np.c_[Q[i,0,0], Q[i,0,1]])\n",
    "          \n",
    "          nrm1 = np.sqrt(Q[i,phi[15]+1,0]**2 + Q[i,phi[15]+1,0]**2)\n",
    "          p02.set_offsets(np.c_[Q[i,0,0], Q[i,0,1]])\n",
    "          p02.set_UVC(Q[i,phi[15]+1,0]/nrm1, Q[i,phi[15]+1,1]/nrm1)\n",
    "          \n",
    "          p03.set_offsets(np.c_[Q[i,1:phi[15]+1,0], Q[i,1:phi[15]+1,1]])\n",
    "          \n",
    "          nrm2 = np.sqrt(Q[i,phi[15]+2:,0]**2 + Q[i,phi[15]+2:,1]**2)\n",
    "          p04.set_offsets(np.c_[Q[i,1:phi[15]+1,0], Q[i,1:phi[15]+1,1]])\n",
    "          p04.set_UVC(Q[i,phi[15]+2:,0]/nrm2, Q[i,phi[15]+2:,1]/nrm2)\n",
    "\n",
    "        else:\n",
    "          p01._offsets3d = (Q[i,0,0:1], Q[i,0,1:2], Q[i,0,-1])\n",
    "          \n",
    "          # nrm1 = np.sqrt(Q[i,phi[15]+1,0]**2 + Q[i,phi[15]+1,0]**2)\n",
    "          segs1 = quiver_data_to_segments(Q[i,0,0], Q[i,0,1], Q[i,0,2], Q[i,phi[15]+1,0], Q[i,phi[15]+1,1], Q[i,phi[15]+1,2], length=1)\n",
    "          p02.set_segments(segs1)\n",
    "          \n",
    "          p03._offsets3d = (Q[i,1:phi[15]+1,0], Q[i,1:phi[15]+1,1], Q[i,1:phi[15]+1,2])\n",
    "          \n",
    "          # nrm2 = np.sqrt(Q[i,phi[15]+2:,0]**2 + Q[i,phi[15]+2:,1]**2)\n",
    "          segs2 = quiver_data_to_segments(Q[i,1:phi[15]+1,0], Q[i,1:phi[15]+1,1], Q[i,1:phi[15]+1,2], Q[i,phi[15]+2:,0], Q[i,phi[15]+2:,1], Q[i,phi[15]+2:,2], length=1)\n",
    "          p04.set_segments(segs2)\n",
    "\n",
    "        p1.set_data(time, res[:i+1, 0])\n",
    "        p2.set_data(time, res[:i+1, 1])\n",
    "        p3.set_data(time, res[:i+1, 2])\n",
    "        p4.set_data(time, res[:i+1, 3])\n",
    "\n",
    "\n",
    "    anim = FuncAnimation(fig, animate, interval=100, frames=r+1)\n",
    "\n",
    "    anim.save(f'{file}.gif')\n",
    "\n",
    "    plt.close()\n",
    "  return Q \n",
    "\n",
    "\n"
   ]
  },
  {
   "cell_type": "markdown",
   "metadata": {
    "id": "qdS4A3ewEwju"
   },
   "source": [
    "### Dispersion, disagreement and asymptotic behavior:"
   ]
  },
  {
   "cell_type": "code",
   "execution_count": 8,
   "metadata": {
    "id": "dwuov6B5Ewju"
   },
   "outputs": [],
   "source": [
    "def X_t(v, phi):\n",
    "  res = 0\n",
    "  for i in range(int(phi[15])+1):\n",
    "    for j in range(int(phi[15])+1):\n",
    "      res += np.linalg.norm(v[i] - v[j])  \n",
    "  return 0.5 / ((phi[15]+1)**2) * res\n",
    "   "
   ]
  },
  {
   "cell_type": "code",
   "execution_count": 9,
   "metadata": {
    "id": "jyNpFJz_Ewjw"
   },
   "outputs": [],
   "source": [
    "def V_t(v, phi):\n",
    "  res = 0\n",
    "  for i in range(int(phi[15])+1):\n",
    "    for j in range(int(phi[15])+1):\n",
    "      res += np.linalg.norm(v[int(phi[15])+1+i] - v[j+int(phi[15])+1])  \n",
    "  return 0.5 / ((phi[15]+1)**2) * res"
   ]
  },
  {
   "cell_type": "code",
   "execution_count": 10,
   "metadata": {
    "id": "JADBwAtlEwjw"
   },
   "outputs": [],
   "source": [
    "def mean_x(v, phi):\n",
    "  res = 0\n",
    "  for i in range(1,int(phi[15])+1):\n",
    "    res += np.linalg.norm(v[i] - v[0])\n",
    "\n",
    "  return (1 / phi[15]) * res "
   ]
  },
  {
   "cell_type": "code",
   "execution_count": 11,
   "metadata": {
    "id": "gmmx0Y7xEwjw"
   },
   "outputs": [],
   "source": [
    "def mean_v(v, phi):\n",
    "  res = 0\n",
    "  for i in range(int(phi[15])+1):\n",
    "    res += np.linalg.norm(v[int(phi[15])+1+i])\n",
    "\n",
    "  return (1 / (phi[15]+1)) * res "
   ]
  },
  {
   "cell_type": "markdown",
   "metadata": {
    "id": "h2PtpZz8_x6b"
   },
   "source": [
    "# Initialisation "
   ]
  },
  {
   "cell_type": "code",
   "execution_count": 12,
   "metadata": {
    "id": "4S367AUO_Hxr"
   },
   "outputs": [],
   "source": [
    "def init_20(phi):\n",
    "\n",
    "  global dx_lim, v_lim\n",
    "  \n",
    "  \n",
    "  alpha = phi[0]\n",
    "  beta = phi[1]\n",
    "\n",
    "  gamma = phi[2]\n",
    "  gamma_1 = phi[3]\n",
    "  sigma = phi[4]\n",
    "\n",
    "  d1 = phi[5]\n",
    "  d2 = phi[6]\n",
    "\n",
    "  C0_a = phi[7]\n",
    "  l0_a = phi[8]\n",
    "  C0_r = phi[9]\n",
    "  l0_r = phi[10]\n",
    "\n",
    "  C_a = phi[11]\n",
    "  l_a = phi[12]\n",
    "  C_r = phi[13]\n",
    "  l_r = phi[14]\n",
    "\n",
    "  N = phi[15]\n",
    "  d = phi[16]\n",
    "\n",
    "\n",
    "  dx_lim = np.log( (C0_r * l0_a) / (C0_a * l0_r) ) * (l0_a * l0_r) / (l0_a - l0_r)\n",
    "  v_lim = np.sqrt(alpha/beta)\n",
    "\n",
    "  res = np.zeros((2 * N + 2, d))\n",
    "\n",
    "  res[0] = [20, 25]\n",
    "    \n",
    "  for i in range(10):\n",
    "    res[1+i] = [2 * np.cos(np.pi * i / 5), 2 * np.sin(np.pi * i / 5)]\n",
    "  \n",
    "  for i in range(10):\n",
    "    res[11+i] = [15 + 2 * np.cos(np.pi * i / 5), 2 * np.sin(np.pi * i / 5)]\n",
    "    \n",
    "  \n",
    "  x = res[:N+1,:].copy()\n",
    "    \n",
    "  tmp = np.ones((21,2))\n",
    "  x[:,0] = sum(x[:,0]) / (21) * tmp[:,0]\n",
    "  x[:,1] = sum(x[:,1]) / (21) * tmp[:,1]\n",
    "\n",
    "\n",
    "  res[N+1:,:] = np.sqrt(alpha/beta) * (res[:N+1,:] - x) / np.linalg.norm(res[:N+1,:])\n",
    "  \n",
    "  \n",
    "  return res"
   ]
  },
  {
   "cell_type": "code",
   "execution_count": 13,
   "metadata": {
    "id": "4S367AUO_Hxr"
   },
   "outputs": [],
   "source": [
    "def init_1(phi):\n",
    "\n",
    "  global dx_lim, v_lim\n",
    "  \n",
    "  \n",
    "  alpha = phi[0]\n",
    "  beta = phi[1]\n",
    "\n",
    "  gamma = phi[2]\n",
    "  gamma_1 = phi[3]\n",
    "  sigma = phi[4]\n",
    "\n",
    "  d1 = phi[5]\n",
    "  d2 = phi[6]\n",
    "\n",
    "  C0_a = phi[7]\n",
    "  l0_a = phi[8]\n",
    "  C0_r = phi[9]\n",
    "  l0_r = phi[10]\n",
    "\n",
    "  C_a = phi[11]\n",
    "  l_a = phi[12]\n",
    "  C_r = phi[13]\n",
    "  l_r = phi[14]\n",
    "\n",
    "  N = phi[15]\n",
    "  d = phi[16]\n",
    "\n",
    "\n",
    "  dx_lim = np.log( (C0_r * l0_a) / (C0_a * l0_r) ) * (l0_a * l0_r) / (l0_a - l0_r)\n",
    "  v_lim = np.sqrt(alpha/beta)\n",
    "\n",
    "  res = np.zeros((2 * N + 2, d))\n",
    "  res[0] = [20, 25]\n",
    "  for i in range(12):\n",
    "    res[1+i] = [2 * np.cos(np.pi * i / 6), 2 * np.sin(np.pi * i / 6)]\n",
    "  for i in range(25):\n",
    "    res[13+i] = [4 * np.cos(np.pi * 2*i / 25), 4 * np.sin(np.pi * 2*i / 25)]\n",
    "  for i in range(12):\n",
    "    res[38+i] = [15 + 2 * np.cos(np.pi * i / 6), 2 * np.sin(np.pi * i / 6)]\n",
    "  res[50] = [15,0]\n",
    "  for i in range(25):\n",
    "    res[51+i] = [15 + 4 * np.cos(np.pi * 2*i / 25), 4 * np.sin(np.pi * 2*i / 25)]\n",
    "  x = res[:N+1,:].copy()\n",
    "  tmp = np.ones((76,2))\n",
    "  x[:,0] = sum(x[:,0]) / (76) * tmp[:,0]\n",
    "  x[:,1] = sum(x[:,1]) / (76) * tmp[:,1]\n",
    "\n",
    "\n",
    "  res[N+1:,:] = np.sqrt(alpha/beta) * (res[:N+1,:] - x) / np.linalg.norm(res[:N+1,:])\n",
    "  \n",
    "  \n",
    "  return res"
   ]
  },
  {
   "cell_type": "markdown",
   "metadata": {
    "id": "6TZDxFH9Bwlh"
   },
   "source": [
    "# Plot functions"
   ]
  },
  {
   "cell_type": "code",
   "execution_count": 14,
   "metadata": {
    "id": "EIQhYNbGABA-"
   },
   "outputs": [],
   "source": [
    "def plot_sys(v, phi):\n",
    "\n",
    "  if phi[16] == 2:\n",
    "    lx = v[0, 0]\n",
    "    ly = v[0, 1]\n",
    "    \n",
    "    lvx = v[phi[15]+1,0]\n",
    "    lvy = v[phi[15]+1,1]\n",
    "\n",
    "    x = v[1:phi[15]+1,0]\n",
    "    y = v[1:phi[15]+1,1]\n",
    "\n",
    "    vx = v[phi[15]+2:,0]\n",
    "    vy = v[phi[15]+2:,1]\n",
    "\n",
    "    fig, ax = plt.subplots(figsize = (10,10))\n",
    "    plt.xlim(min(min(x), lx) - 5,max(max(x), lx) + 5)\n",
    "    plt.ylim(min(min(y), ly) - 3,max(max(y), ly) + 3)\n",
    "\n",
    "    plt.scatter(lx, ly, marker=\"o\", color = \"b\")\n",
    "    plt.quiver(lx, ly, lvx, lvy, scale = 1, width= 0.001, headwidth=3, headlength=5, color='b')\n",
    "\n",
    "    plt.scatter(x, y, marker=\"o\", color = \"r\")\n",
    "    plt.quiver(x, y, vx, vy, scale = 1, width= 0.001, headwidth=3, headlength=5)\n",
    "\n",
    "    plt.show()\n",
    "\n",
    "  else:\n",
    "    lx = v[0, 0]\n",
    "    ly = v[0, 1]\n",
    "    lz = v[0, 2]\n",
    "    \n",
    "    lvx = v[phi[15]+1,0]\n",
    "    lvy = v[phi[15]+1,1]\n",
    "    lvz = v[phi[15]+1,2]\n",
    "\n",
    "    x = v[1:phi[15]+1,0]\n",
    "    y = v[1:phi[15]+1,1]\n",
    "    z = v[1:phi[15]+1,2]\n",
    "\n",
    "    vx = v[phi[15]+2:,0]\n",
    "    vy = v[phi[15]+2:,1]\n",
    "    vz = v[phi[15]+2:,2]\n",
    "\n",
    "    fig = plt.figure(figsize=(12,10))\n",
    "    ax = fig.add_subplot(111, projection='3d')\n",
    "\n",
    "    ax.set_xlim(min(min(x), lx) - 5,max(max(x), lx) + 5)\n",
    "    ax.set_ylim(min(min(y), ly) - 5,max(max(y), ly) + 5)\n",
    "    ax.set_ylim(min(min(z), lz) - 5,max(max(z), lz) + 5)\n",
    "\n",
    "    ax.scatter(lx, ly, lz, marker=\"*\", color = \"b\" )\n",
    "    ax.quiver(lx, ly, lz, lvx, lvy, lvz, length=3, colors='b', linewidth =1)\n",
    "\n",
    "    ax.scatter(x, y, z, marker=\"o\", color = \"r\")\n",
    "    ax.quiver(x, y, z, vx, vy, vz, length=1, colors='k', linewidth =1)\n",
    "\n",
    "    ax.set_xlabel('x axis')\n",
    "    ax.set_ylabel('y axis')\n",
    "    ax.set_zlabel('z axis')\n",
    "\n",
    "\n",
    "    plt.show()"
   ]
  },
  {
   "cell_type": "code",
   "execution_count": 15,
   "metadata": {
    "id": "1b3JVFnvPVgV"
   },
   "outputs": [],
   "source": [
    "def plot_asym_behavior(w, t):\n",
    "\n",
    "  r = np.arange(t+1)\n",
    "\n",
    "  fig = plt.figure(constrained_layout=True, figsize = (16, 9))\n",
    "  gs = fig.add_gridspec(2, 2)\n",
    "\n",
    "  f_ax1 = fig.add_subplot(gs[0, 0])\n",
    "  f_ax1.plot(r, w[:, 0])\n",
    "  f_ax1.set_xlabel(\"time\")\n",
    "  f_ax1.set_ylabel(\"X(t)\")\n",
    "  f_ax1.set_title('$X(t)$')\n",
    "\n",
    "\n",
    "  f_ax2 = fig.add_subplot(gs[0, 1])\n",
    "  f_ax2.plot(r, w[:, 1])\n",
    "  f_ax2.set_xlabel(\"time\")\n",
    "  f_ax2.set_ylabel(\"V(t)\")\n",
    "  f_ax2.set_title('$V(t)$')\n",
    "\n",
    "\n",
    "  f_ax3 = fig.add_subplot(gs[1, 0])\n",
    "  f_ax3.plot(r, w[:, 2], '--', label='$sum(|x_i - x_0|)\\;/\\;(N+1)$')\n",
    "  f_ax3.plot(r, dx_lim * np.ones(t+1), 'k', label='$ln(C^0_rl^0_a/(l^0_rC^0_a))*(l^0_al^0_r/(l^0_a-l^0_r))$')\n",
    "  f_ax3.set_xlabel(\"time\")\n",
    "  f_ax3.set_ylabel(\"Distance\")\n",
    "  f_ax3.set_title('The distance between the agents and the leader')\n",
    "  f_ax3.legend()\n",
    "\n",
    "  f_ax4 = fig.add_subplot(gs[1, 1])\n",
    "  f_ax4.plot(r, w[:, 3], '--', label='$sum(|v_i|)\\;/\\;(N+1)$')\n",
    "  f_ax4.plot(r, v_lim * np.ones(t+1), 'k', label='$sqrt((alpha)/(beta))$')\n",
    "  f_ax4.set_xlabel(\"time\")\n",
    "  f_ax4.set_ylabel(\"mean(|v|)\")\n",
    "  f_ax4.set_title('The mean norm of velocity')\n",
    "  f_ax4.legend()"
   ]
  },
  {
   "cell_type": "markdown",
   "metadata": {
    "id": "bVUI47R0TIUO"
   },
   "source": [
    "# parameters"
   ]
  },
  {
   "cell_type": "code",
   "execution_count": 16,
   "metadata": {
    "id": "qO1IxSZ0uL7Y"
   },
   "outputs": [],
   "source": [
    "params_1 = (0.07 , 0.05 , 1 , 10 , 0.5 , np.cos(1.047) , np.cos(1.57), 10 , 50 , 25 , 1 , 20 , 100 , 50 , 2, 75, 2)\n",
    "\n",
    "params_20 = (0.07 , 0.05 , 1 , 10 , 0.5 , np.cos(1.047) , np.cos(1.57), 10 , 50 , 25 , 1 , 20 , 100 , 50 , 2, 20, 2)\n",
    "\n",
    "params_2 = (0.07, 0.05, 1, 10, 0.5, np.cos(1.047), np.cos(1.57), 10, 50, 25, 1, 50, 10, 20, 2, 61, 2)"
   ]
  },
  {
   "cell_type": "markdown",
   "metadata": {
    "id": "9iWWlQ2Ub0Vp"
   },
   "source": [
    "# Parameter identification"
   ]
  },
  {
   "cell_type": "code",
   "execution_count": 23,
   "metadata": {
    "id": "09LH1AFWg3oH"
   },
   "outputs": [],
   "source": [
    "\n",
    "def objective(phi: np.array):\n",
    "  res = np.zeros(phi.shape[0])\n",
    "  for k in range(phi.shape[0]):\n",
    "#     phi[k][5:] = params_20[5:]    \n",
    "    phi[k][15:] = params_20[15:]\n",
    "    \n",
    "    temp = run(Y, phi[k], 20, 0.5)\n",
    "\n",
    "    res[k] = np.linalg.norm(Y_data[:-1] - temp[:-1]) ** 2\n",
    "\n",
    "  return res "
   ]
  },
  {
   "cell_type": "code",
   "execution_count": 24,
   "metadata": {
    "id": "wax6XU-G1n-A"
   },
   "outputs": [],
   "source": [
    "# params = (alpha, beta, gamma, gamma_1, sigma, d1, d2, C0_a, l0_a, C0_r, l0_r, C_a, l_a, C_r, l_r, N, d)"
   ]
  },
  {
   "cell_type": "code",
   "execution_count": 25,
   "metadata": {
    "id": "lEhFjvFXb9WA"
   },
   "outputs": [],
   "source": [
    "Y = init_20(params_20)"
   ]
  },
  {
   "cell_type": "code",
   "execution_count": 26,
   "metadata": {
    "id": "yiPSupT7cIFh",
    "jupyter": {
     "outputs_hidden": true
    }
   },
   "outputs": [],
   "source": [
    "Y_data = run(Y, params_20, 20, 0.5)"
   ]
  },
  {
   "cell_type": "code",
   "execution_count": 28,
   "metadata": {
    "colab": {
     "base_uri": "https://localhost:8080/"
    },
    "id": "z-WW8pI3q_u-",
    "outputId": "db826eb2-e652-496e-82bf-79c7781114c8",
    "scrolled": true
   },
   "outputs": [
    {
     "name": "stderr",
     "output_type": "stream",
     "text": [
      "2021-06-18 06:25:05,762 - pyswarms.single.global_best - INFO - Optimize for 3000 iters with {'c1': 0.5, 'c2': 0.8, 'w': 0.9}\n",
      "pyswarms.single.global_best:   1%|          |28/3000, best_cost=2.23e+4<ipython-input-7-62c1fbf4fe07>:15: RuntimeWarning: overflow encountered in multiply\n",
      "  Q[j+1] = Q[j] + h/6 * (K_1 + 2*K_2 + 2*K_3 + K_4)\n",
      "pyswarms.single.global_best: 100%|██████████|3000/3000, best_cost=1.19e+3\n",
      "2021-06-18 06:57:44,785 - pyswarms.single.global_best - INFO - Optimization finished | best cost: 1189.7074569157592, best pos: [ 4.56648729e-07  4.71637301e-02 -2.86913090e+00  1.37898190e+01\n",
      "  1.45711035e+01  6.79473297e-01  1.18658205e+01  8.63900597e+00\n",
      "  5.74039884e+01 -7.42514358e+01  9.41441247e-01  3.95030466e+01\n",
      " -1.01921846e+00  7.23303131e+01  1.69536069e+00  2.67047082e+00\n",
      "  2.28567262e+01]\n"
     ]
    },
    {
     "name": "stdout",
     "output_type": "stream",
     "text": [
      "CPU times: user 30.6 s, sys: 4.51 s, total: 35.1 s\n",
      "Wall time: 32min 39s\n"
     ]
    }
   ],
   "source": [
    "%%time\n",
    "\n",
    "# Set-up hyperparameters\n",
    "options = {'c1': 0.5, 'c2': 0.8, 'w':0.9}\n",
    "\n",
    "a=1\n",
    "\n",
    "# Create bounds\n",
    "min_bound = np.array([0, 0, 0, 0, 0, -1, -1, 0, 50 - a , 25 - a , 0, 20 - a , 100 - a , 50 - a , 0, 0, 0])\n",
    "\n",
    "# max_bound = 100*np.ones(17)\n",
    "max_bound = np.array([0.07 + 1 , 0.05 + 1 , 1 + a , 10 + a , 0.5 + a , 1, 1, 10 + a , 50 + a , 25 + a , 1 + a , 20 + a , 100 + a , 50 + a , 2 + a, 20 + a, 2 + a])\n",
    "bounds = (min_bound, max_bound)\n",
    "\n",
    "# Call instance of GlobalBestPSO\n",
    "optimizer_3 = ps.single.GlobalBestPSO(n_particles=24, dimensions=17,\n",
    "                                    options=options)\n",
    "\n",
    "# Perform optimization\n",
    "stats = optimizer_3.optimize(objective, iters=3000, n_processes=8)"
   ]
  },
  {
   "cell_type": "code",
   "execution_count": 43,
   "metadata": {
    "colab": {
     "base_uri": "https://localhost:8080/"
    },
    "id": "z-WW8pI3q_u-",
    "outputId": "db826eb2-e652-496e-82bf-79c7781114c8",
    "scrolled": true
   },
   "outputs": [
    {
     "name": "stderr",
     "output_type": "stream",
     "text": [
      "2021-06-17 19:22:59,944 - pyswarms.single.global_best - INFO - Optimize for 1000 iters with {'c1': 0.5, 'c2': 0.3, 'w': 0.9}\n",
      "pyswarms.single.global_best: 100%|██████████|1000/1000, best_cost=7.83e+6\n",
      "2021-06-17 19:48:52,860 - pyswarms.single.global_best - INFO - Optimization finished | best cost: 7825572.279350761, best pos: [-0.39365049 -0.39069636  1.21320004 -0.26491914  2.12999627  0.81940542\n",
      "  0.33588485  0.46187302 -0.42032737 -1.33811356  3.571347    7.39523374\n",
      "  1.49882603  1.89089711  4.25468284  3.77601874  0.4741483 ]\n"
     ]
    },
    {
     "name": "stdout",
     "output_type": "stream",
     "text": [
      "CPU times: user 11.3 s, sys: 1.81 s, total: 13.1 s\n",
      "Wall time: 25min 52s\n"
     ]
    }
   ],
   "source": [
    "%%time\n",
    "\n",
    "# Set-up hyperparameters\n",
    "options = {'c1': 0.5, 'c2': 0.3, 'w':0.9}\n",
    "\n",
    "a=1\n",
    "\n",
    "# Create bounds\n",
    "min_bound = np.array([0, 0, 0, 0, 0, -1, -1, 0, 50 - a , 25 - a , 0, 20 - a , 100 - a , 50 - a , 0, 0, 0])\n",
    "\n",
    "# max_bound = 100*np.ones(17)\n",
    "max_bound = np.array([0.07 + 1 , 0.05 + 1 , 1 + a , 10 + a , 0.5 + a , 1, 1, 10 + a , 50 + a , 25 + a , 1 + a , 20 + a , 100 + a , 50 + a , 2 + a, 20 + a, 2 + a])\n",
    "bounds = (min_bound, max_bound)\n",
    "\n",
    "# Call instance of GlobalBestPSO\n",
    "optimizer_7 = ps.single.GlobalBestPSO(n_particles=24, dimensions=17,\n",
    "                                    options=options, init_pos=optimizer_7.pos_history[-1])\n",
    "\n",
    "# Perform optimization\n",
    "stats = optimizer_7.optimize(objective, iters=1000, n_processes=8)"
   ]
  },
  {
   "cell_type": "code",
   "execution_count": 44,
   "metadata": {
    "colab": {
     "base_uri": "https://localhost:8080/"
    },
    "id": "z-WW8pI3q_u-",
    "outputId": "db826eb2-e652-496e-82bf-79c7781114c8",
    "scrolled": true
   },
   "outputs": [
    {
     "name": "stderr",
     "output_type": "stream",
     "text": [
      "2021-06-18 05:49:31,259 - pyswarms.single.global_best - INFO - Optimize for 1000 iters with {'c1': 0.6, 'c2': 0.9, 'w': 0.9}\n",
      "pyswarms.single.global_best:  28%|██▊       |277/1000, best_cost=8.89e+6<ipython-input-7-62c1fbf4fe07>:15: RuntimeWarning: overflow encountered in multiply\n",
      "  Q[j+1] = Q[j] + h/6 * (K_1 + 2*K_2 + 2*K_3 + K_4)\n",
      "<ipython-input-7-62c1fbf4fe07>:15: RuntimeWarning: invalid value encountered in add\n",
      "  Q[j+1] = Q[j] + h/6 * (K_1 + 2*K_2 + 2*K_3 + K_4)\n",
      "pyswarms.single.global_best:  34%|███▍      |339/1000, best_cost=8.86e+6Process ForkPoolWorker-137:\n",
      "Process ForkPoolWorker-144:\n",
      "Process ForkPoolWorker-141:\n",
      "Process ForkPoolWorker-138:\n",
      "  File \"/usr/lib/python3.8/multiprocessing/process.py\", line 108, in run\n",
      "    self._target(*self._args, **self._kwargs)\n",
      "Process ForkPoolWorker-142:\n",
      "Traceback (most recent call last):\n",
      "Traceback (most recent call last):\n",
      "Traceback (most recent call last):\n",
      "Traceback (most recent call last):\n",
      "Process ForkPoolWorker-143:\n",
      "Process ForkPoolWorker-139:\n",
      "  File \"/usr/lib/python3.8/multiprocessing/process.py\", line 315, in _bootstrap\n",
      "    self.run()\n",
      "  File \"/usr/lib/python3.8/multiprocessing/process.py\", line 315, in _bootstrap\n",
      "    self.run()\n",
      "Traceback (most recent call last):\n",
      "  File \"/usr/lib/python3.8/multiprocessing/process.py\", line 315, in _bootstrap\n",
      "    self.run()\n",
      "Process ForkPoolWorker-140:\n",
      "  File \"/usr/lib/python3.8/multiprocessing/process.py\", line 315, in _bootstrap\n",
      "    self.run()\n",
      "  File \"/usr/lib/python3.8/multiprocessing/process.py\", line 108, in run\n",
      "    self._target(*self._args, **self._kwargs)\n",
      "Traceback (most recent call last):\n",
      "Traceback (most recent call last):\n",
      "  File \"/usr/lib/python3.8/multiprocessing/process.py\", line 315, in _bootstrap\n",
      "    self.run()\n",
      "  File \"/usr/lib/python3.8/multiprocessing/pool.py\", line 125, in worker\n",
      "    result = (True, func(*args, **kwds))\n",
      "  File \"/usr/lib/python3.8/multiprocessing/pool.py\", line 48, in mapstar\n",
      "    return list(map(*args))\n",
      "  File \"/usr/lib/python3.8/multiprocessing/process.py\", line 108, in run\n",
      "    self._target(*self._args, **self._kwargs)\n",
      "  File \"/usr/lib/python3.8/multiprocessing/pool.py\", line 125, in worker\n",
      "    result = (True, func(*args, **kwds))\n",
      "  File \"/usr/lib/python3.8/multiprocessing/process.py\", line 315, in _bootstrap\n",
      "    self.run()\n",
      "  File \"<ipython-input-31-010ecb9ccf7f>\", line 7, in objective\n",
      "    temp = run(Y, phi[k], 50, 0.5)\n",
      "  File \"/usr/lib/python3.8/multiprocessing/pool.py\", line 125, in worker\n",
      "    result = (True, func(*args, **kwds))\n",
      "  File \"/usr/lib/python3.8/multiprocessing/process.py\", line 315, in _bootstrap\n",
      "    self.run()\n",
      "  File \"/usr/lib/python3.8/multiprocessing/pool.py\", line 48, in mapstar\n",
      "    return list(map(*args))\n",
      "  File \"/usr/lib/python3.8/multiprocessing/process.py\", line 108, in run\n",
      "    self._target(*self._args, **self._kwargs)\n",
      "  File \"/usr/lib/python3.8/multiprocessing/pool.py\", line 48, in mapstar\n",
      "    return list(map(*args))\n",
      "  File \"/usr/lib/python3.8/multiprocessing/process.py\", line 108, in run\n",
      "    self._target(*self._args, **self._kwargs)\n",
      "Traceback (most recent call last):\n",
      "  File \"/usr/lib/python3.8/multiprocessing/process.py\", line 108, in run\n",
      "    self._target(*self._args, **self._kwargs)\n",
      "  File \"<ipython-input-31-010ecb9ccf7f>\", line 7, in objective\n",
      "    temp = run(Y, phi[k], 50, 0.5)\n",
      "  File \"<ipython-input-31-010ecb9ccf7f>\", line 7, in objective\n",
      "    temp = run(Y, phi[k], 50, 0.5)\n",
      "  File \"/usr/lib/python3.8/multiprocessing/process.py\", line 108, in run\n",
      "    self._target(*self._args, **self._kwargs)\n",
      "  File \"/usr/lib/python3.8/multiprocessing/process.py\", line 315, in _bootstrap\n",
      "    self.run()\n",
      "  File \"<ipython-input-7-62c1fbf4fe07>\", line 11, in run\n",
      "    K_1 = f(Q[j], phi)\n",
      "  File \"/usr/lib/python3.8/multiprocessing/pool.py\", line 125, in worker\n",
      "    result = (True, func(*args, **kwds))\n",
      "  File \"<ipython-input-7-62c1fbf4fe07>\", line 12, in run\n",
      "    K_2 = f(Q[j] + h/2 * K_1, phi)\n",
      "  File \"/usr/lib/python3.8/multiprocessing/pool.py\", line 125, in worker\n",
      "    result = (True, func(*args, **kwds))\n",
      "  File \"<ipython-input-7-62c1fbf4fe07>\", line 14, in run\n",
      "    K_4 = f(Q[j] + h * K_2, phi)\n",
      "  File \"/usr/lib/python3.8/multiprocessing/process.py\", line 108, in run\n",
      "    self._target(*self._args, **self._kwargs)\n",
      "  File \"/usr/lib/python3.8/multiprocessing/pool.py\", line 48, in mapstar\n",
      "    return list(map(*args))\n",
      "  File \"/usr/lib/python3.8/multiprocessing/pool.py\", line 125, in worker\n",
      "    result = (True, func(*args, **kwds))\n",
      "KeyboardInterrupt\n",
      "  File \"<ipython-input-31-010ecb9ccf7f>\", line 7, in objective\n",
      "    temp = run(Y, phi[k], 50, 0.5)\n",
      "KeyboardInterrupt\n",
      "\n"
     ]
    },
    {
     "ename": "KeyboardInterrupt",
     "evalue": "",
     "output_type": "error",
     "traceback": [
      "\u001b[0;31m---------------------------------------------------------------------------\u001b[0m",
      "\u001b[0;31mKeyboardInterrupt\u001b[0m                         Traceback (most recent call last)",
      "\u001b[0;32m<timed exec>\u001b[0m in \u001b[0;36m<module>\u001b[0;34m\u001b[0m\n",
      "\u001b[0;32m~/.local/lib/python3.8/site-packages/pyswarms/single/global_best.py\u001b[0m in \u001b[0;36moptimize\u001b[0;34m(self, objective_func, iters, n_processes, verbose, **kwargs)\u001b[0m\n\u001b[1;32m    207\u001b[0m             \u001b[0;31m# Compute cost for current position and personal best\u001b[0m\u001b[0;34m\u001b[0m\u001b[0;34m\u001b[0m\u001b[0;34m\u001b[0m\u001b[0m\n\u001b[1;32m    208\u001b[0m             \u001b[0;31m# fmt: off\u001b[0m\u001b[0;34m\u001b[0m\u001b[0;34m\u001b[0m\u001b[0;34m\u001b[0m\u001b[0m\n\u001b[0;32m--> 209\u001b[0;31m             \u001b[0mself\u001b[0m\u001b[0;34m.\u001b[0m\u001b[0mswarm\u001b[0m\u001b[0;34m.\u001b[0m\u001b[0mcurrent_cost\u001b[0m \u001b[0;34m=\u001b[0m \u001b[0mcompute_objective_function\u001b[0m\u001b[0;34m(\u001b[0m\u001b[0mself\u001b[0m\u001b[0;34m.\u001b[0m\u001b[0mswarm\u001b[0m\u001b[0;34m,\u001b[0m \u001b[0mobjective_func\u001b[0m\u001b[0;34m,\u001b[0m \u001b[0mpool\u001b[0m\u001b[0;34m=\u001b[0m\u001b[0mpool\u001b[0m\u001b[0;34m,\u001b[0m \u001b[0;34m**\u001b[0m\u001b[0mkwargs\u001b[0m\u001b[0;34m)\u001b[0m\u001b[0;34m\u001b[0m\u001b[0;34m\u001b[0m\u001b[0m\n\u001b[0m\u001b[1;32m    210\u001b[0m             \u001b[0mself\u001b[0m\u001b[0;34m.\u001b[0m\u001b[0mswarm\u001b[0m\u001b[0;34m.\u001b[0m\u001b[0mpbest_pos\u001b[0m\u001b[0;34m,\u001b[0m \u001b[0mself\u001b[0m\u001b[0;34m.\u001b[0m\u001b[0mswarm\u001b[0m\u001b[0;34m.\u001b[0m\u001b[0mpbest_cost\u001b[0m \u001b[0;34m=\u001b[0m \u001b[0mcompute_pbest\u001b[0m\u001b[0;34m(\u001b[0m\u001b[0mself\u001b[0m\u001b[0;34m.\u001b[0m\u001b[0mswarm\u001b[0m\u001b[0;34m)\u001b[0m\u001b[0;34m\u001b[0m\u001b[0;34m\u001b[0m\u001b[0m\n\u001b[1;32m    211\u001b[0m             \u001b[0;31m# Set best_cost_yet_found for ftol\u001b[0m\u001b[0;34m\u001b[0m\u001b[0;34m\u001b[0m\u001b[0;34m\u001b[0m\u001b[0m\n",
      "\u001b[0;32m~/.local/lib/python3.8/site-packages/pyswarms/backend/operators.py\u001b[0m in \u001b[0;36mcompute_objective_function\u001b[0;34m(swarm, objective_func, pool, **kwargs)\u001b[0m\n\u001b[1;32m    239\u001b[0m         \u001b[0;32mreturn\u001b[0m \u001b[0mobjective_func\u001b[0m\u001b[0;34m(\u001b[0m\u001b[0mswarm\u001b[0m\u001b[0;34m.\u001b[0m\u001b[0mposition\u001b[0m\u001b[0;34m,\u001b[0m \u001b[0;34m**\u001b[0m\u001b[0mkwargs\u001b[0m\u001b[0;34m)\u001b[0m\u001b[0;34m\u001b[0m\u001b[0;34m\u001b[0m\u001b[0m\n\u001b[1;32m    240\u001b[0m     \u001b[0;32melse\u001b[0m\u001b[0;34m:\u001b[0m\u001b[0;34m\u001b[0m\u001b[0;34m\u001b[0m\u001b[0m\n\u001b[0;32m--> 241\u001b[0;31m         results = pool.map(\n\u001b[0m\u001b[1;32m    242\u001b[0m             \u001b[0mpartial\u001b[0m\u001b[0;34m(\u001b[0m\u001b[0mobjective_func\u001b[0m\u001b[0;34m,\u001b[0m \u001b[0;34m**\u001b[0m\u001b[0mkwargs\u001b[0m\u001b[0;34m)\u001b[0m\u001b[0;34m,\u001b[0m\u001b[0;34m\u001b[0m\u001b[0;34m\u001b[0m\u001b[0m\n\u001b[1;32m    243\u001b[0m             \u001b[0mnp\u001b[0m\u001b[0;34m.\u001b[0m\u001b[0marray_split\u001b[0m\u001b[0;34m(\u001b[0m\u001b[0mswarm\u001b[0m\u001b[0;34m.\u001b[0m\u001b[0mposition\u001b[0m\u001b[0;34m,\u001b[0m \u001b[0mpool\u001b[0m\u001b[0;34m.\u001b[0m\u001b[0m_processes\u001b[0m\u001b[0;34m)\u001b[0m\u001b[0;34m,\u001b[0m\u001b[0;34m\u001b[0m\u001b[0;34m\u001b[0m\u001b[0m\n",
      "\u001b[0;32m/usr/lib/python3.8/multiprocessing/pool.py\u001b[0m in \u001b[0;36mmap\u001b[0;34m(self, func, iterable, chunksize)\u001b[0m\n\u001b[1;32m    362\u001b[0m         \u001b[0;32min\u001b[0m \u001b[0ma\u001b[0m \u001b[0mlist\u001b[0m \u001b[0mthat\u001b[0m \u001b[0;32mis\u001b[0m \u001b[0mreturned\u001b[0m\u001b[0;34m.\u001b[0m\u001b[0;34m\u001b[0m\u001b[0;34m\u001b[0m\u001b[0m\n\u001b[1;32m    363\u001b[0m         '''\n\u001b[0;32m--> 364\u001b[0;31m         \u001b[0;32mreturn\u001b[0m \u001b[0mself\u001b[0m\u001b[0;34m.\u001b[0m\u001b[0m_map_async\u001b[0m\u001b[0;34m(\u001b[0m\u001b[0mfunc\u001b[0m\u001b[0;34m,\u001b[0m \u001b[0miterable\u001b[0m\u001b[0;34m,\u001b[0m \u001b[0mmapstar\u001b[0m\u001b[0;34m,\u001b[0m \u001b[0mchunksize\u001b[0m\u001b[0;34m)\u001b[0m\u001b[0;34m.\u001b[0m\u001b[0mget\u001b[0m\u001b[0;34m(\u001b[0m\u001b[0;34m)\u001b[0m\u001b[0;34m\u001b[0m\u001b[0;34m\u001b[0m\u001b[0m\n\u001b[0m\u001b[1;32m    365\u001b[0m \u001b[0;34m\u001b[0m\u001b[0m\n\u001b[1;32m    366\u001b[0m     \u001b[0;32mdef\u001b[0m \u001b[0mstarmap\u001b[0m\u001b[0;34m(\u001b[0m\u001b[0mself\u001b[0m\u001b[0;34m,\u001b[0m \u001b[0mfunc\u001b[0m\u001b[0;34m,\u001b[0m \u001b[0miterable\u001b[0m\u001b[0;34m,\u001b[0m \u001b[0mchunksize\u001b[0m\u001b[0;34m=\u001b[0m\u001b[0;32mNone\u001b[0m\u001b[0;34m)\u001b[0m\u001b[0;34m:\u001b[0m\u001b[0;34m\u001b[0m\u001b[0;34m\u001b[0m\u001b[0m\n",
      "\u001b[0;32m/usr/lib/python3.8/multiprocessing/pool.py\u001b[0m in \u001b[0;36mget\u001b[0;34m(self, timeout)\u001b[0m\n\u001b[1;32m    763\u001b[0m \u001b[0;34m\u001b[0m\u001b[0m\n\u001b[1;32m    764\u001b[0m     \u001b[0;32mdef\u001b[0m \u001b[0mget\u001b[0m\u001b[0;34m(\u001b[0m\u001b[0mself\u001b[0m\u001b[0;34m,\u001b[0m \u001b[0mtimeout\u001b[0m\u001b[0;34m=\u001b[0m\u001b[0;32mNone\u001b[0m\u001b[0;34m)\u001b[0m\u001b[0;34m:\u001b[0m\u001b[0;34m\u001b[0m\u001b[0;34m\u001b[0m\u001b[0m\n\u001b[0;32m--> 765\u001b[0;31m         \u001b[0mself\u001b[0m\u001b[0;34m.\u001b[0m\u001b[0mwait\u001b[0m\u001b[0;34m(\u001b[0m\u001b[0mtimeout\u001b[0m\u001b[0;34m)\u001b[0m\u001b[0;34m\u001b[0m\u001b[0;34m\u001b[0m\u001b[0m\n\u001b[0m\u001b[1;32m    766\u001b[0m         \u001b[0;32mif\u001b[0m \u001b[0;32mnot\u001b[0m \u001b[0mself\u001b[0m\u001b[0;34m.\u001b[0m\u001b[0mready\u001b[0m\u001b[0;34m(\u001b[0m\u001b[0;34m)\u001b[0m\u001b[0;34m:\u001b[0m\u001b[0;34m\u001b[0m\u001b[0;34m\u001b[0m\u001b[0m\n\u001b[1;32m    767\u001b[0m             \u001b[0;32mraise\u001b[0m \u001b[0mTimeoutError\u001b[0m\u001b[0;34m\u001b[0m\u001b[0;34m\u001b[0m\u001b[0m\n",
      "\u001b[0;32m/usr/lib/python3.8/multiprocessing/pool.py\u001b[0m in \u001b[0;36mwait\u001b[0;34m(self, timeout)\u001b[0m\n\u001b[1;32m    760\u001b[0m \u001b[0;34m\u001b[0m\u001b[0m\n\u001b[1;32m    761\u001b[0m     \u001b[0;32mdef\u001b[0m \u001b[0mwait\u001b[0m\u001b[0;34m(\u001b[0m\u001b[0mself\u001b[0m\u001b[0;34m,\u001b[0m \u001b[0mtimeout\u001b[0m\u001b[0;34m=\u001b[0m\u001b[0;32mNone\u001b[0m\u001b[0;34m)\u001b[0m\u001b[0;34m:\u001b[0m\u001b[0;34m\u001b[0m\u001b[0;34m\u001b[0m\u001b[0m\n\u001b[0;32m--> 762\u001b[0;31m         \u001b[0mself\u001b[0m\u001b[0;34m.\u001b[0m\u001b[0m_event\u001b[0m\u001b[0;34m.\u001b[0m\u001b[0mwait\u001b[0m\u001b[0;34m(\u001b[0m\u001b[0mtimeout\u001b[0m\u001b[0;34m)\u001b[0m\u001b[0;34m\u001b[0m\u001b[0;34m\u001b[0m\u001b[0m\n\u001b[0m\u001b[1;32m    763\u001b[0m \u001b[0;34m\u001b[0m\u001b[0m\n\u001b[1;32m    764\u001b[0m     \u001b[0;32mdef\u001b[0m \u001b[0mget\u001b[0m\u001b[0;34m(\u001b[0m\u001b[0mself\u001b[0m\u001b[0;34m,\u001b[0m \u001b[0mtimeout\u001b[0m\u001b[0;34m=\u001b[0m\u001b[0;32mNone\u001b[0m\u001b[0;34m)\u001b[0m\u001b[0;34m:\u001b[0m\u001b[0;34m\u001b[0m\u001b[0;34m\u001b[0m\u001b[0m\n",
      "\u001b[0;32m/usr/lib/python3.8/threading.py\u001b[0m in \u001b[0;36mwait\u001b[0;34m(self, timeout)\u001b[0m\n\u001b[1;32m    556\u001b[0m             \u001b[0msignaled\u001b[0m \u001b[0;34m=\u001b[0m \u001b[0mself\u001b[0m\u001b[0;34m.\u001b[0m\u001b[0m_flag\u001b[0m\u001b[0;34m\u001b[0m\u001b[0;34m\u001b[0m\u001b[0m\n\u001b[1;32m    557\u001b[0m             \u001b[0;32mif\u001b[0m \u001b[0;32mnot\u001b[0m \u001b[0msignaled\u001b[0m\u001b[0;34m:\u001b[0m\u001b[0;34m\u001b[0m\u001b[0;34m\u001b[0m\u001b[0m\n\u001b[0;32m--> 558\u001b[0;31m                 \u001b[0msignaled\u001b[0m \u001b[0;34m=\u001b[0m \u001b[0mself\u001b[0m\u001b[0;34m.\u001b[0m\u001b[0m_cond\u001b[0m\u001b[0;34m.\u001b[0m\u001b[0mwait\u001b[0m\u001b[0;34m(\u001b[0m\u001b[0mtimeout\u001b[0m\u001b[0;34m)\u001b[0m\u001b[0;34m\u001b[0m\u001b[0;34m\u001b[0m\u001b[0m\n\u001b[0m\u001b[1;32m    559\u001b[0m             \u001b[0;32mreturn\u001b[0m \u001b[0msignaled\u001b[0m\u001b[0;34m\u001b[0m\u001b[0;34m\u001b[0m\u001b[0m\n\u001b[1;32m    560\u001b[0m \u001b[0;34m\u001b[0m\u001b[0m\n",
      "\u001b[0;32m/usr/lib/python3.8/threading.py\u001b[0m in \u001b[0;36mwait\u001b[0;34m(self, timeout)\u001b[0m\n\u001b[1;32m    300\u001b[0m         \u001b[0;32mtry\u001b[0m\u001b[0;34m:\u001b[0m    \u001b[0;31m# restore state no matter what (e.g., KeyboardInterrupt)\u001b[0m\u001b[0;34m\u001b[0m\u001b[0;34m\u001b[0m\u001b[0m\n\u001b[1;32m    301\u001b[0m             \u001b[0;32mif\u001b[0m \u001b[0mtimeout\u001b[0m \u001b[0;32mis\u001b[0m \u001b[0;32mNone\u001b[0m\u001b[0;34m:\u001b[0m\u001b[0;34m\u001b[0m\u001b[0;34m\u001b[0m\u001b[0m\n\u001b[0;32m--> 302\u001b[0;31m                 \u001b[0mwaiter\u001b[0m\u001b[0;34m.\u001b[0m\u001b[0macquire\u001b[0m\u001b[0;34m(\u001b[0m\u001b[0;34m)\u001b[0m\u001b[0;34m\u001b[0m\u001b[0;34m\u001b[0m\u001b[0m\n\u001b[0m\u001b[1;32m    303\u001b[0m                 \u001b[0mgotit\u001b[0m \u001b[0;34m=\u001b[0m \u001b[0;32mTrue\u001b[0m\u001b[0;34m\u001b[0m\u001b[0;34m\u001b[0m\u001b[0m\n\u001b[1;32m    304\u001b[0m             \u001b[0;32melse\u001b[0m\u001b[0;34m:\u001b[0m\u001b[0;34m\u001b[0m\u001b[0;34m\u001b[0m\u001b[0m\n",
      "\u001b[0;31mKeyboardInterrupt\u001b[0m: "
     ]
    },
    {
     "name": "stderr",
     "output_type": "stream",
     "text": [
      "KeyboardInterrupt\n",
      "  File \"/usr/lib/python3.8/multiprocessing/pool.py\", line 125, in worker\n",
      "    result = (True, func(*args, **kwds))\n",
      "  File \"/usr/lib/python3.8/multiprocessing/pool.py\", line 48, in mapstar\n",
      "    return list(map(*args))\n",
      "  File \"/usr/lib/python3.8/multiprocessing/pool.py\", line 48, in mapstar\n",
      "    return list(map(*args))\n",
      "  File \"/usr/lib/python3.8/multiprocessing/pool.py\", line 125, in worker\n",
      "    result = (True, func(*args, **kwds))\n",
      "  File \"<ipython-input-31-010ecb9ccf7f>\", line 7, in objective\n",
      "    temp = run(Y, phi[k], 50, 0.5)\n",
      "  File \"/usr/lib/python3.8/multiprocessing/pool.py\", line 48, in mapstar\n",
      "    return list(map(*args))\n",
      "  File \"<ipython-input-31-010ecb9ccf7f>\", line 7, in objective\n",
      "    temp = run(Y, phi[k], 50, 0.5)\n",
      "  File \"/usr/lib/python3.8/multiprocessing/pool.py\", line 48, in mapstar\n",
      "    return list(map(*args))\n",
      "  File \"<ipython-input-7-62c1fbf4fe07>\", line 14, in run\n",
      "    K_4 = f(Q[j] + h * K_2, phi)\n",
      "  File \"<ipython-input-7-62c1fbf4fe07>\", line 11, in run\n",
      "    K_1 = f(Q[j], phi)\n",
      "KeyboardInterrupt\n",
      "  File \"<ipython-input-31-010ecb9ccf7f>\", line 7, in objective\n",
      "    temp = run(Y, phi[k], 50, 0.5)\n",
      "  File \"<ipython-input-31-010ecb9ccf7f>\", line 7, in objective\n",
      "    temp = run(Y, phi[k], 50, 0.5)\n",
      "KeyboardInterrupt\n",
      "  File \"<ipython-input-7-62c1fbf4fe07>\", line 14, in run\n",
      "    K_4 = f(Q[j] + h * K_2, phi)\n",
      "  File \"<ipython-input-7-62c1fbf4fe07>\", line 12, in run\n",
      "    K_2 = f(Q[j] + h/2 * K_1, phi)\n",
      "  File \"<ipython-input-7-62c1fbf4fe07>\", line 11, in run\n",
      "    K_1 = f(Q[j], phi)\n",
      "KeyboardInterrupt\n",
      "KeyboardInterrupt\n",
      "KeyboardInterrupt\n"
     ]
    }
   ],
   "source": [
    "%%time\n",
    "\n",
    "# Set-up hyperparameters\n",
    "options = {'c1': 0.6, 'c2': 0.9, 'w':0.9}\n",
    "\n",
    "a=1\n",
    "\n",
    "# Create bounds\n",
    "min_bound = np.array([0, 0, 0, 0, 0, -1, -1, 0, 50 - a , 25 - a , 0, 20 - a , 100 - a , 50 - a , 0, 0, 0])\n",
    "\n",
    "# max_bound = 100*np.ones(17)\n",
    "max_bound = np.array([0.07 + 1 , 0.05 + 1 , 1 + a , 10 + a , 0.5 + a , 1, 1, 10 + a , 50 + a , 25 + a , 1 + a , 20 + a , 100 + a , 50 + a , 2 + a, 20 + a, 2 + a])\n",
    "bounds = (min_bound, max_bound)\n",
    "\n",
    "# Call instance of GlobalBestPSO\n",
    "optimizer_8 = ps.single.GlobalBestPSO(n_particles=24, dimensions=17,\n",
    "                                    options=options)\n",
    "\n",
    "# Perform optimization\n",
    "stats = optimizer_8.optimize(objective, iters=1000, n_processes=8)"
   ]
  },
  {
   "cell_type": "code",
   "execution_count": 77,
   "metadata": {},
   "outputs": [],
   "source": [
    "init = np.array([[0.06284261,  0.05206153,  5.81268423, 10.06835564,  4.90229861,  2.71729476, 6.13536684, 10 , 50 , 25 , 1 , 20 , 100 , 50 , 2, 20, 2] for _ in range(40)])"
   ]
  },
  {
   "cell_type": "code",
   "execution_count": 29,
   "metadata": {
    "collapsed": true
   },
   "outputs": [
    {
     "name": "stderr",
     "output_type": "stream",
     "text": [
      "2021-06-16 18:30:14,376 - matplotlib.animation - WARNING - MovieWriter ffmpeg unavailable; using Pillow instead.\n",
      "2021-06-16 18:30:14,377 - matplotlib.animation - INFO - Animation.save using <class 'matplotlib.animation.PillowWriter'>\n"
     ]
    },
    {
     "data": {
      "text/plain": [
       "array([[[ 2.00000000e+01,  2.50000000e+01],\n",
       "        [ 2.00000000e+00,  0.00000000e+00],\n",
       "        [ 1.61803399e+00,  1.17557050e+00],\n",
       "        ...,\n",
       "        [ 1.28422885e-01, -6.31742353e-02],\n",
       "        [ 1.53672811e-01, -6.31742353e-02],\n",
       "        [ 1.74100430e-01, -4.83327011e-02]],\n",
       "\n",
       "       [[ 2.01159290e+01,  2.52307232e+01],\n",
       "        [ 2.23078858e+00,  9.99245012e-02],\n",
       "        [ 1.81058328e+00,  1.40685134e+00],\n",
       "        ...,\n",
       "        [-2.42173294e-02, -2.38161272e-01],\n",
       "        [ 4.69246014e-01, -2.26197099e-01],\n",
       "        [ 8.59381848e-01,  8.83489742e-02]],\n",
       "\n",
       "       [[ 2.02205037e+01,  2.54364438e+01],\n",
       "        [ 2.96345505e+00,  4.19500613e-01],\n",
       "        [ 2.44891416e+00,  2.04563044e+00],\n",
       "        ...,\n",
       "        [-1.20822193e-01, -2.38916870e-01],\n",
       "        [ 7.32140993e-01, -2.04255917e-01],\n",
       "        [ 1.36690072e+00,  3.47884880e-01]],\n",
       "\n",
       "       ...,\n",
       "\n",
       "       [[ 6.66126306e+01,  1.77293871e+02],\n",
       "        [ 6.27780283e+01,  1.81075199e+02],\n",
       "        [ 7.04503510e+01,  1.73479131e+02],\n",
       "        ...,\n",
       "        [ 2.44901708e-01,  9.81252931e-01],\n",
       "        [ 2.44311890e-01,  9.78452454e-01],\n",
       "        [ 2.47942386e-01,  9.82361839e-01]],\n",
       "\n",
       "       [[ 6.67351627e+01,  1.77784133e+02],\n",
       "        [ 6.28980034e+01,  1.81566861e+02],\n",
       "        [ 7.05732096e+01,  1.73969843e+02],\n",
       "        ...,\n",
       "        [ 2.44726973e-01,  9.81042811e-01],\n",
       "        [ 2.42799572e-01,  9.79225789e-01],\n",
       "        [ 2.47541411e-01,  9.82101524e-01]],\n",
       "\n",
       "       [[ 6.68575937e+01,  1.78274134e+02],\n",
       "        [ 6.30183226e+01,  1.82058609e+02],\n",
       "        [ 7.06959927e+01,  1.74460562e+02],\n",
       "        ...,\n",
       "        [ 2.44477506e-01,  9.80849224e-01],\n",
       "        [ 2.41579019e-01,  9.80163271e-01],\n",
       "        [ 2.47008053e-01,  9.81447469e-01]]])"
      ]
     },
     "execution_count": 29,
     "metadata": {},
     "output_type": "execute_result"
    }
   ],
   "source": [
    "# plt.plot(optimizer.cost_history)\n",
    "# objective(optimizer.pos_history[-2])\n",
    "run(Y,params_pred3,100,0.5, save=True, file=\"test_pred3\")\n",
    "# optimizer.pos_history[-1]"
   ]
  },
  {
   "cell_type": "code",
   "execution_count": 28,
   "metadata": {},
   "outputs": [],
   "source": [
    "params_20   = ( 0.07 ,           0.05 ,           1 ,              10 , \n",
    "                0.5 ,            np.cos(1.047) ,  np.cos(1.57),    10 ,\n",
    "                50 ,             25 ,             1 ,              20 ,\n",
    "                100 ,            50 ,             2,               20,\n",
    "                2)\n",
    "\n",
    "params_pred = ( 6.22712065e-02,  5.06104633e-02,  4.55374230e+00,  1.52257329e+01,\n",
    "                1.31434289e+00,  2.10709514e+00,  3.15172943e+00,  6.65762399e+00,\n",
    "                5.06755363e+01,  2.49981224e+01,  9.86426738e-01,  1.84465740e+01,\n",
    "                1.04021877e+02,  4.99368921e+01,  1.97556702e+00,  20,\n",
    "                2)\n",
    "params_pred2 = ( 2.39064359e-01, 7.68831092e-02, 9.37504712e+00, 2.24346935e+01,\n",
    "                 1.06140789e+01, 2.12767063e-02, 2.26398337e-01, 4.17479246e+00,\n",
    "                 4.65354086e+01, 2.25497370e+01, 1.94129444e+00, 2.64774279e+01,\n",
    "                 9.88482868e+01, 5.05689676e+01, 1.79416162e+00, 20,\n",
    "                 2)\n",
    "\n",
    "params_pred3 = (  4.61665940e-02,  4.72920198e-02,  1.77824176e+00,  3.27155919e+00,\n",
    "                  6.69389722e-01,  5.62934398e-01,  9.44237439e-02,  3.17047517e+01,\n",
    "                  5.30360005e+01,  5.81683321e+01,  1.09202426e+00,  2.92999387e+01,\n",
    "                  1.82094659e+02,  5.04491220e+01,  1.94084459e+00,  20,\n",
    "                  2)"
   ]
  },
  {
   "cell_type": "markdown",
   "metadata": {
    "id": "IBhJNP1t2t7E"
   },
   "source": [
    "# test"
   ]
  },
  {
   "cell_type": "code",
   "execution_count": 37,
   "metadata": {
    "colab": {
     "base_uri": "https://localhost:8080/"
    },
    "id": "d_B5uXJP2vHU",
    "outputId": "029e3c29-49fb-4bfe-b1a1-76192cb48406"
   },
   "outputs": [
    {
     "data": {
      "text/plain": [
       "array([131.14808533])"
      ]
     },
     "execution_count": 37,
     "metadata": {},
     "output_type": "execute_result"
    }
   ],
   "source": [
    "objective(np.array([[ 6.75089399e-02,  4.83759348e-02,  2.97404484e+00,  4.49835368e+00,\n",
    " -2.18877975e-01,np.cos(1.047), np.cos(1.57), 2.21491142e+01,  4.94508429e+01,  2.54305379e+00,\n",
    "  3.15316226e+00, -3.02071074e+00,  3.07831543e+00,  2.32741483e+01,\n",
    "  4.73761734e-01, 75, 2]]))\n",
    "\n",
    "# 131.14808533"
   ]
  },
  {
   "cell_type": "code",
   "execution_count": 30,
   "metadata": {
    "colab": {
     "base_uri": "https://localhost:8080/"
    },
    "id": "VJJYqkqp3Dmt",
    "outputId": "a4dfac77-713a-4e0e-c606-7a681714115e"
   },
   "outputs": [
    {
     "data": {
      "text/plain": [
       "array([0.05067263])"
      ]
     },
     "execution_count": 30,
     "metadata": {},
     "output_type": "execute_result"
    }
   ],
   "source": [
    "objective(np.array([[2.85847473e-02, 4.52504452e-02, 2.01671110e-01 ,1.02330002e+01 , 0.5, np.cos(1.047), np.cos(1.57), 10 , 50 , 25 , 1, 20 , 100 , 50 , 2 , 75, 2 ]]))"
   ]
  },
  {
   "cell_type": "code",
   "execution_count": null,
   "metadata": {},
   "outputs": [],
   "source": [
    "a = [1, 2, 3, 4, 5]\n",
    "a[4:]"
   ]
  },
  {
   "cell_type": "code",
   "execution_count": null,
   "metadata": {},
   "outputs": [],
   "source": []
  }
 ],
 "metadata": {
  "colab": {
   "name": "Cucker-Smale model.ipynb",
   "provenance": []
  },
  "kernelspec": {
   "display_name": "Python 3",
   "language": "python",
   "name": "python3"
  },
  "language_info": {
   "codemirror_mode": {
    "name": "ipython",
    "version": 3
   },
   "file_extension": ".py",
   "mimetype": "text/x-python",
   "name": "python",
   "nbconvert_exporter": "python",
   "pygments_lexer": "ipython3",
   "version": "3.8.6"
  }
 },
 "nbformat": 4,
 "nbformat_minor": 4
}
