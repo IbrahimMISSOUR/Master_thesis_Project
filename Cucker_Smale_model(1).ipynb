{
 "cells": [
  {
   "cell_type": "markdown",
   "metadata": {
    "id": "1lFExaMa-Wp_"
   },
   "source": [
    "## Imports"
   ]
  },
  {
   "cell_type": "code",
   "execution_count": 1,
   "metadata": {
    "id": "3SsyRtTtLiOS"
   },
   "outputs": [],
   "source": [
    "import time\n",
    "import pyswarms as ps\n",
    "import numpy as np\n",
    "import matplotlib\n",
    "import matplotlib.pyplot as plt\n",
    "import matplotlib.gridspec as gridspec\n",
    "from mpl_toolkits.mplot3d import Axes3D\n",
    "from matplotlib.animation import FuncAnimation\n",
    "from base64 import b64encode\n",
    "from IPython.display import HTML\n",
    "plt.style.use('ggplot')\n",
    "from numba import jit, njit"
   ]
  },
  {
   "cell_type": "markdown",
   "metadata": {
    "id": "a0rgqc5vEsBc"
   },
   "source": [
    "# jitted"
   ]
  },
  {
   "cell_type": "code",
   "execution_count": 139,
   "metadata": {
    "id": "916gi47nZ7VL"
   },
   "outputs": [],
   "source": [
    "@njit\n",
    "def S(z: float, phi: np.array([float])) -> float:\n",
    "  if z <= abs(phi[6]):\n",
    "    return 0\n",
    "  if z >= abs(phi[5]):\n",
    "    return 1\n",
    "  else:\n",
    "    return 0.5 - 0.5 * np.tanh(1/(z-abs(phi[5]))+1/(z-abs(phi[6])))\n"
   ]
  },
  {
   "cell_type": "code",
   "execution_count": 140,
   "metadata": {
    "id": "0VjQGTSgZ7VL"
   },
   "outputs": [],
   "source": [
    "@njit\n",
    "def Al(v: np.array([float]), phi: np.array([float]), i: int) -> np.array([float]):\n",
    "  res = np.zeros(int(phi[16]))\n",
    "  \n",
    "  for j in range(int(phi[15]+1)):\n",
    "    if j == i:\n",
    "      continue\n",
    "    res += 1/(phi[15]+1) * (abs(phi[2]) / ((1 + np.linalg.norm(v[i]-v[j]) ** 2)) ** abs(phi[4]))* (v[int(phi[15]+1)+j]-v[int(phi[15]+1)+i]) * S(np.dot((v[j]-v[i])/np.linalg.norm(v[i]-v[j]), v[int(phi[15]+1)+i]/np.linalg.norm(v[int(phi[15]+1)+i])), phi)\n",
    "      \n",
    "  return res"
   ]
  },
  {
   "cell_type": "code",
   "execution_count": 141,
   "metadata": {
    "id": "1ouL-YK3-6MF"
   },
   "outputs": [],
   "source": [
    "@jit\n",
    "def F_0(v: np.array([float]), phi: np.array([float]), i: int) -> np.array([float]):\n",
    "  if i == 0:\n",
    "    return np.zeros(int(phi[16]))\n",
    "#   print('\\n(**)i = {}\\n phi[3]= {},\\n phi[7]= {},\\n phi[8]= {},\\n phi[9]= {},\\n phi[10]= {},\\n norm = {},\\n exp_7_8 = {},\\n exp_9_10 = {},\\n vec_uni = {}'.format(\n",
    "#     i, phi[3], phi[7], phi[8], phi[9], phi[10], np.linalg.norm(v[i]- v[0]) , phi[7]/phi[8] * np.exp(-np.linalg.norm(v[i]- v[0])/phi[8]), phi[9]/phi[10] * np.exp(-np.linalg.norm(v[i]- v[0])/phi[10]), (v[i]- v[0])/np.linalg.norm(v[i]- v[0])))\n",
    "  \n",
    "  return - abs(phi[3]) * (v[i]- v[0])/np.linalg.norm(v[i]- v[0]) * (abs(phi[7]/phi[8]) * np.exp(-np.linalg.norm(v[i]- v[0])/abs(phi[8])) - abs(phi[9]/phi[10]) * np.exp(-np.linalg.norm(v[i]- v[0])/abs(phi[10])))"
   ]
  },
  {
   "cell_type": "code",
   "execution_count": 142,
   "metadata": {
    "id": "xmBc2mzHZ7VM"
   },
   "outputs": [],
   "source": [
    "@njit\n",
    "def F(v: np.array([float]), phi: np.array([float]), i: int) -> np.array([float]):\n",
    "  res = np.zeros(int(phi[16]))\n",
    "  \n",
    "  for j in range(int(phi[15]+1)):\n",
    "    if j == i:\n",
    "      continue\n",
    "    res += -1/(phi[15]+1) * (v[i]- v[j])/np.linalg.norm(v[i]- v[j]) * (abs(phi[11]/phi[12]) * np.exp(-np.linalg.norm(v[i]- v[j])/abs(phi[12])) - abs(phi[13]/phi[14]) * np.exp(-np.linalg.norm(v[i]- v[j])/abs(phi[14])))\n",
    "      \n",
    "  return res"
   ]
  },
  {
   "cell_type": "code",
   "execution_count": 143,
   "metadata": {
    "cellView": "code",
    "id": "dohNVsD_Z7VM"
   },
   "outputs": [],
   "source": [
    "@jit\n",
    "def f(v: np.array([float]), phi: np.array([float])) -> np.array([float]):\n",
    "\n",
    "  res = np.zeros((int(2*phi[15]+2),int(phi[16])))\n",
    "\n",
    "  for i in range(int(phi[15]+1)):\n",
    "#     print('\\n(**)i = {}\\n phi[0]= {},\\n phi[1]= {},\\n norm = {},\\n v_i = {},\\n F_i = {},\\n Al = {},\\n F_0 = {}'.format(\n",
    "#     i, phi[0], phi[1], np.linalg.norm(v[int(phi[15]+1)+i]) ** 2, v[int(phi[15]+1)+i], F(v, phi, i), Al(v, phi, i), F_0(v, phi, i)))\n",
    "    res[i] = v[int(phi[15]+1)+i]\n",
    "    res[int(phi[15]+1)+i] = (abs(phi[0]) - abs(phi[1]) * np.linalg.norm(v[int(phi[15]+1)+i]) ** 2) * v[int(phi[15]+1)+i] + F(v, phi, i) + Al(v, phi, i) + F_0(v, phi, i)\n",
    "\n",
    "  return res"
   ]
  },
  {
   "cell_type": "code",
   "execution_count": 144,
   "metadata": {
    "id": "ufW2WYHQNF08"
   },
   "outputs": [],
   "source": [
    "def run(q: np.array([float]), phi: np.array([float]), t: int, h: float, save = False, file ='animation') -> np.array([float]):\n",
    "\n",
    "  r = int( t/h ) \n",
    "\n",
    "  res = np.zeros((r+1,4))  \n",
    "\n",
    "  Q = np.zeros((r+2,int(2*phi[15]+2),int(phi[16])))\n",
    "  Q[0] = q\n",
    "\n",
    "  for j in range(r+1):\n",
    "    K_1 = f(Q[j], phi)\n",
    "    K_2 = f(Q[j] + h/2 * K_1, phi)\n",
    "    K_3 = f(Q[j] + h/2 * K_2, phi)\n",
    "    K_4 = f(Q[j] + h * K_2, phi)\n",
    "    Q[j+1] = Q[j] + h/6 * (K_1 + 2*K_2 + 2*K_3 + K_4)\n",
    "\n",
    "\n",
    "  if save :\n",
    "    \n",
    "    for j in range(r+1):\n",
    "    \n",
    "        res[j, 0] = X_t(Q[j], phi)\n",
    "        res[j, 1] = V_t(Q[j], phi)\n",
    "        res[j, 2] = mean_x(Q[j], phi)\n",
    "        res[j, 3] = mean_v(Q[j], phi)\n",
    "    \n",
    "    fig = plt.figure(constrained_layout=True, figsize = (16, 9))\n",
    "    gs = fig.add_gridspec(4, 3)\n",
    "\n",
    "\n",
    "    if phi[16] == 2:\n",
    "      ax0 = fig.add_subplot(gs[:,0:2])\n",
    "\n",
    "      p01 = ax0.scatter(q[0,0], q[0,1], marker=\"o\", color = \"b\")\n",
    "      p02 = ax0.quiver(q[0,0], q[0,1], q[phi[15]+1,0] / (np.sqrt(q[phi[15]+1,0]**2+q[phi[15]+1,1]**2)), q[phi[15]+1,1] / (np.sqrt(q[phi[15]+1,0]**2+q[phi[15]+1,1]**2)), width= 0.001, headwidth=3, headlength=5, color='b')\n",
    "\n",
    "      p03 = ax0.scatter(q[1:phi[15]+1,0], q[1:phi[15]+1,1], marker=\"o\", color = \"r\")\n",
    "      p04 = ax0.quiver(q[1:phi[15]+1,0], q[1:phi[15]+1,1], q[phi[15]+2:,0]/(np.sqrt(q[phi[15]+2:,0]**2+q[phi[15]+2:,1]**2)), q[phi[15]+2:,1]/(np.sqrt(q[phi[15]+2:,0]**2+q[phi[15]+2:,1]**2)), width= 0.001, headwidth=3, headlength=5)\n",
    "    else:\n",
    "      ax0 = fig.add_subplot(gs[:,0:2], projection='3d') \n",
    "      ax0.set_zlim(Q[:,:phi[15]+1,2].min() - 3,Q[:,:phi[15]+1,2].max() + 3) \n",
    "\n",
    "      p01 = ax0.scatter(q[0,0:1], q[0,1:2], q[0,-1], marker=\"*\", color = \"b\" )\n",
    "      # nm1 = np.sqrt(q[phi[15]+1,0]**2 + q[phi[15]+1,1]**2 + q[phi[15]+1,2]**2)\n",
    "      p02 = ax0.quiver(q[0,0], q[0,1], q[0,2], q[phi[15]+1,0], q[phi[15]+1,1], q[phi[15]+1,2], length=1, normalize =True, colors='b', linewidth =1)\n",
    "\n",
    "      # nm2 = np.sqrt(q[phi[15]+2:,0]**2 + q[phi[15]+2:,1]**2 + q[phi[15]+2:,2]**2)\n",
    "      p03 = ax0.scatter(q[1:phi[15]+1,0:1], q[1:phi[15]+1,1:2], q[1:phi[15]+1,-1], marker=\"o\", color = \"r\")\n",
    "      p04 = ax0.quiver(q[1:phi[15]+1,0], q[1:phi[15]+1,1], q[1:phi[15]+1,2], q[phi[15]+2:,0], q[phi[15]+2:,1], q[phi[15]+2:,2], length=1, normalize =True, colors='k', linewidth =1)\n",
    "\n",
    "      def quiver_data_to_segments(X, Y, Z, u, v, w, length=1):\n",
    "        segments = (X, Y, Z, X+v*length, Y+u*length, Z+w*length)\n",
    "        segments = np.array(segments).reshape(6,-1)\n",
    "        return [[[x, y, z], [u, v, w]] for x, y, z, u, v, w in zip(*list(segments))]\n",
    "\n",
    "    ax0.set_xlim(Q[:,:phi[15]+1,0].min() - 5,Q[:,:phi[15]+1,0].max() + 5)\n",
    "    ax0.set_ylim(Q[:,:phi[15]+1,1].min() - 3,Q[:,:phi[15]+1,1].max() + 3)\n",
    "      \n",
    "    ax1 = fig.add_subplot(gs[0, 2])\n",
    "    p1 = ax1.plot([], [], 'b')[0]\n",
    "\n",
    "    ax1.set_xlabel(\"time\")\n",
    "    ax1.set_ylabel(\"X(t)\")\n",
    "    ax1.set_title('$X(t)$')\n",
    "    ax1.set_xlim(0,t+1)\n",
    "    ax1.set_ylim(res[:, 0].min() -2, res[:, 0].max() + 3)\n",
    "\n",
    "    ax2 = fig.add_subplot(gs[1, 2])\n",
    "    p2 = ax2.plot([],[], 'b')[0]\n",
    "    ax2.set_xlim(0,t+1)\n",
    "    ax2.set_ylim(min(res[:, 1].min(), dx_lim) -2, max(res[:, 1].max(), dx_lim) + 3)\n",
    "    ax2.set_xlabel(\"time\")\n",
    "    ax2.set_ylabel(\"V(t)\")\n",
    "    ax2.set_title('$V(t)$')\n",
    "\n",
    "    ax3 = fig.add_subplot(gs[2, 2])\n",
    "    p3 = ax3.plot([], [],'b--', label='$sum(|x_i - x_0|)\\;/\\;(N+1)$')[0]\n",
    "    ax3.plot(np.arange(t+1), dx_lim*np.ones(t+1), 'k', label='$ln(C^0_rl^0_a/(l^0_rC^0_a))*(l^0_al^0_r/(l^0_a-l^0_r))$')\n",
    "    ax3.set_xlim(0,t+1)\n",
    "    ax3.set_ylim(min(res[:, 2].min(), v_lim) - 2, max(res[:, 2].max(), v_lim) + 3)\n",
    "    ax3.set_xlabel(\"time\")\n",
    "    ax3.set_ylabel(\"Distance\")\n",
    "    ax3.set_title('The distance between the agents and the leader')\n",
    "    ax3.legend()\n",
    "\n",
    "    ax4 = fig.add_subplot(gs[3, 2])\n",
    "    p4 = ax4.plot([], [], 'b--', label='$sum(|v_i|)\\;/\\;(N+1)$')[0]\n",
    "    ax4.plot(np.arange(t+1), v_lim*np.ones(t+1), 'k', label='$sqrt((alpha)/(beta))$')\n",
    "    ax4.set_xlim(0,t+1)\n",
    "    ax4.set_ylim(res[:, 3].min() - 2, res[:, 3].max() + 3)\n",
    "    ax4.set_xlabel(\"time\")\n",
    "    ax4.set_ylabel(\"mean(|v|)\")\n",
    "    ax4.set_title('The mean norm of velocity')\n",
    "    ax4.legend()\n",
    "\n",
    "    def animate(i):  \n",
    "        time = np.linspace(0,i*h,i+1)\n",
    "\n",
    "        if phi[16]==2:\n",
    "\n",
    "          p01.set_offsets(np.c_[Q[i,0,0], Q[i,0,1]])\n",
    "          \n",
    "          nrm1 = np.sqrt(Q[i,phi[15]+1,0]**2 + Q[i,phi[15]+1,0]**2)\n",
    "          p02.set_offsets(np.c_[Q[i,0,0], Q[i,0,1]])\n",
    "          p02.set_UVC(Q[i,phi[15]+1,0]/nrm1, Q[i,phi[15]+1,1]/nrm1)\n",
    "          \n",
    "          p03.set_offsets(np.c_[Q[i,1:phi[15]+1,0], Q[i,1:phi[15]+1,1]])\n",
    "          \n",
    "          nrm2 = np.sqrt(Q[i,phi[15]+2:,0]**2 + Q[i,phi[15]+2:,1]**2)\n",
    "          p04.set_offsets(np.c_[Q[i,1:phi[15]+1,0], Q[i,1:phi[15]+1,1]])\n",
    "          p04.set_UVC(Q[i,phi[15]+2:,0]/nrm2, Q[i,phi[15]+2:,1]/nrm2)\n",
    "\n",
    "        else:\n",
    "          p01._offsets3d = (Q[i,0,0:1], Q[i,0,1:2], Q[i,0,-1])\n",
    "          \n",
    "          # nrm1 = np.sqrt(Q[i,phi[15]+1,0]**2 + Q[i,phi[15]+1,0]**2)\n",
    "          segs1 = quiver_data_to_segments(Q[i,0,0], Q[i,0,1], Q[i,0,2], Q[i,phi[15]+1,0], Q[i,phi[15]+1,1], Q[i,phi[15]+1,2], length=1)\n",
    "          p02.set_segments(segs1)\n",
    "          \n",
    "          p03._offsets3d = (Q[i,1:phi[15]+1,0], Q[i,1:phi[15]+1,1], Q[i,1:phi[15]+1,2])\n",
    "          \n",
    "          # nrm2 = np.sqrt(Q[i,phi[15]+2:,0]**2 + Q[i,phi[15]+2:,1]**2)\n",
    "          segs2 = quiver_data_to_segments(Q[i,1:phi[15]+1,0], Q[i,1:phi[15]+1,1], Q[i,1:phi[15]+1,2], Q[i,phi[15]+2:,0], Q[i,phi[15]+2:,1], Q[i,phi[15]+2:,2], length=1)\n",
    "          p04.set_segments(segs2)\n",
    "\n",
    "        p1.set_data(time, res[:i+1, 0])\n",
    "        p2.set_data(time, res[:i+1, 1])\n",
    "        p3.set_data(time, res[:i+1, 2])\n",
    "        p4.set_data(time, res[:i+1, 3])\n",
    "\n",
    "\n",
    "    anim = FuncAnimation(fig, animate, interval=100, frames=r+1)\n",
    "\n",
    "    anim.save(f'{file}.gif')\n",
    "\n",
    "    plt.close()\n",
    "  return Q \n",
    "\n",
    "\n"
   ]
  },
  {
   "cell_type": "markdown",
   "metadata": {
    "id": "qdS4A3ewEwju"
   },
   "source": [
    "### Dispersion, disagreement and asymptotic behavior:"
   ]
  },
  {
   "cell_type": "code",
   "execution_count": 145,
   "metadata": {
    "id": "dwuov6B5Ewju"
   },
   "outputs": [],
   "source": [
    "def X_t(v, phi):\n",
    "  res = 0\n",
    "  for i in range(int(phi[15])+1):\n",
    "    for j in range(int(phi[15])+1):\n",
    "      res += np.linalg.norm(v[i] - v[j])  \n",
    "  return 0.5 / ((phi[15]+1)**2) * res\n",
    "   "
   ]
  },
  {
   "cell_type": "code",
   "execution_count": 146,
   "metadata": {
    "id": "jyNpFJz_Ewjw"
   },
   "outputs": [],
   "source": [
    "def V_t(v, phi):\n",
    "  res = 0\n",
    "  for i in range(int(phi[15])+1):\n",
    "    for j in range(int(phi[15])+1):\n",
    "      res += np.linalg.norm(v[int(phi[15])+1+i] - v[j+int(phi[15])+1])  \n",
    "  return 0.5 / ((phi[15]+1)**2) * res"
   ]
  },
  {
   "cell_type": "code",
   "execution_count": 147,
   "metadata": {
    "id": "JADBwAtlEwjw"
   },
   "outputs": [],
   "source": [
    "def mean_x(v, phi):\n",
    "  res = 0\n",
    "  for i in range(1,int(phi[15])+1):\n",
    "    res += np.linalg.norm(v[i] - v[0])\n",
    "\n",
    "  return (1 / phi[15]) * res "
   ]
  },
  {
   "cell_type": "code",
   "execution_count": 148,
   "metadata": {
    "id": "gmmx0Y7xEwjw"
   },
   "outputs": [],
   "source": [
    "def mean_v(v, phi):\n",
    "  res = 0\n",
    "  for i in range(int(phi[15])+1):\n",
    "    res += np.linalg.norm(v[int(phi[15])+1+i])\n",
    "\n",
    "  return (1 / (phi[15]+1)) * res "
   ]
  },
  {
   "cell_type": "markdown",
   "metadata": {
    "id": "h2PtpZz8_x6b"
   },
   "source": [
    "# Initialisation "
   ]
  },
  {
   "cell_type": "code",
   "execution_count": 149,
   "metadata": {
    "id": "4S367AUO_Hxr"
   },
   "outputs": [],
   "source": [
    "def init_20(phi):\n",
    "\n",
    "  global dx_lim, v_lim\n",
    "  \n",
    "  \n",
    "  alpha = phi[0]\n",
    "  beta = phi[1]\n",
    "\n",
    "  gamma = phi[2]\n",
    "  gamma_1 = phi[3]\n",
    "  sigma = phi[4]\n",
    "\n",
    "  d1 = phi[5]\n",
    "  d2 = phi[6]\n",
    "\n",
    "  C0_a = phi[7]\n",
    "  l0_a = phi[8]\n",
    "  C0_r = phi[9]\n",
    "  l0_r = phi[10]\n",
    "\n",
    "  C_a = phi[11]\n",
    "  l_a = phi[12]\n",
    "  C_r = phi[13]\n",
    "  l_r = phi[14]\n",
    "\n",
    "  N = phi[15]\n",
    "  d = phi[16]\n",
    "\n",
    "\n",
    "  dx_lim = np.log( (C0_r * l0_a) / (C0_a * l0_r) ) * (l0_a * l0_r) / (l0_a - l0_r)\n",
    "  v_lim = np.sqrt(alpha/beta)\n",
    "\n",
    "  res = np.zeros((2 * N + 2, d))\n",
    "\n",
    "  res[0] = [20, 25]\n",
    "    \n",
    "  for i in range(10):\n",
    "    res[1+i] = [2 * np.cos(np.pi * i / 5), 2 * np.sin(np.pi * i / 5)]\n",
    "  \n",
    "  for i in range(10):\n",
    "    res[11+i] = [15 + 2 * np.cos(np.pi * i / 5), 2 * np.sin(np.pi * i / 5)]\n",
    "    \n",
    "  \n",
    "  x = res[:N+1,:].copy()\n",
    "    \n",
    "  tmp = np.ones((21,2))\n",
    "  x[:,0] = sum(x[:,0]) / (21) * tmp[:,0]\n",
    "  x[:,1] = sum(x[:,1]) / (21) * tmp[:,1]\n",
    "\n",
    "\n",
    "  res[N+1:,:] = np.sqrt(alpha/beta) * (res[:N+1,:] - x) / np.linalg.norm(res[:N+1,:])\n",
    "  \n",
    "  \n",
    "  return res"
   ]
  },
  {
   "cell_type": "code",
   "execution_count": 150,
   "metadata": {
    "id": "4S367AUO_Hxr"
   },
   "outputs": [],
   "source": [
    "def init_1(phi):\n",
    "\n",
    "  global dx_lim, v_lim\n",
    "  \n",
    "  \n",
    "  alpha = phi[0]\n",
    "  beta = phi[1]\n",
    "\n",
    "  gamma = phi[2]\n",
    "  gamma_1 = phi[3]\n",
    "  sigma = phi[4]\n",
    "\n",
    "  d1 = phi[5]\n",
    "  d2 = phi[6]\n",
    "\n",
    "  C0_a = phi[7]\n",
    "  l0_a = phi[8]\n",
    "  C0_r = phi[9]\n",
    "  l0_r = phi[10]\n",
    "\n",
    "  C_a = phi[11]\n",
    "  l_a = phi[12]\n",
    "  C_r = phi[13]\n",
    "  l_r = phi[14]\n",
    "\n",
    "  N = phi[15]\n",
    "  d = phi[16]\n",
    "\n",
    "\n",
    "  dx_lim = np.log( (C0_r * l0_a) / (C0_a * l0_r) ) * (l0_a * l0_r) / (l0_a - l0_r)\n",
    "  v_lim = np.sqrt(alpha/beta)\n",
    "\n",
    "  res = np.zeros((2 * N + 2, d))\n",
    "  res[0] = [20, 25]\n",
    "  for i in range(12):\n",
    "    res[1+i] = [2 * np.cos(np.pi * i / 6), 2 * np.sin(np.pi * i / 6)]\n",
    "  for i in range(25):\n",
    "    res[13+i] = [4 * np.cos(np.pi * 2*i / 25), 4 * np.sin(np.pi * 2*i / 25)]\n",
    "  for i in range(12):\n",
    "    res[38+i] = [15 + 2 * np.cos(np.pi * i / 6), 2 * np.sin(np.pi * i / 6)]\n",
    "  res[50] = [15,0]\n",
    "  for i in range(25):\n",
    "    res[51+i] = [15 + 4 * np.cos(np.pi * 2*i / 25), 4 * np.sin(np.pi * 2*i / 25)]\n",
    "  x = res[:N+1,:].copy()\n",
    "  tmp = np.ones((76,2))\n",
    "  x[:,0] = sum(x[:,0]) / (76) * tmp[:,0]\n",
    "  x[:,1] = sum(x[:,1]) / (76) * tmp[:,1]\n",
    "\n",
    "\n",
    "  res[N+1:,:] = np.sqrt(alpha/beta) * (res[:N+1,:] - x) / np.linalg.norm(res[:N+1,:])\n",
    "  \n",
    "  \n",
    "  return res"
   ]
  },
  {
   "cell_type": "markdown",
   "metadata": {
    "id": "6TZDxFH9Bwlh"
   },
   "source": [
    "# Plot functions"
   ]
  },
  {
   "cell_type": "code",
   "execution_count": 151,
   "metadata": {
    "id": "EIQhYNbGABA-"
   },
   "outputs": [],
   "source": [
    "def plot_sys(v, phi):\n",
    "\n",
    "  if phi[16] == 2:\n",
    "    lx = v[0, 0]\n",
    "    ly = v[0, 1]\n",
    "    \n",
    "    lvx = v[phi[15]+1,0]\n",
    "    lvy = v[phi[15]+1,1]\n",
    "\n",
    "    x = v[1:phi[15]+1,0]\n",
    "    y = v[1:phi[15]+1,1]\n",
    "\n",
    "    vx = v[phi[15]+2:,0]\n",
    "    vy = v[phi[15]+2:,1]\n",
    "\n",
    "    fig, ax = plt.subplots(figsize = (10,10))\n",
    "    plt.xlim(min(min(x), lx) - 5,max(max(x), lx) + 5)\n",
    "    plt.ylim(min(min(y), ly) - 3,max(max(y), ly) + 3)\n",
    "\n",
    "    plt.scatter(lx, ly, marker=\"o\", color = \"b\")\n",
    "    plt.quiver(lx, ly, lvx, lvy, scale = 1, width= 0.001, headwidth=3, headlength=5, color='b')\n",
    "\n",
    "    plt.scatter(x, y, marker=\"o\", color = \"r\")\n",
    "    plt.quiver(x, y, vx, vy, scale = 1, width= 0.001, headwidth=3, headlength=5)\n",
    "\n",
    "    plt.show()\n",
    "\n",
    "  else:\n",
    "    lx = v[0, 0]\n",
    "    ly = v[0, 1]\n",
    "    lz = v[0, 2]\n",
    "    \n",
    "    lvx = v[phi[15]+1,0]\n",
    "    lvy = v[phi[15]+1,1]\n",
    "    lvz = v[phi[15]+1,2]\n",
    "\n",
    "    x = v[1:phi[15]+1,0]\n",
    "    y = v[1:phi[15]+1,1]\n",
    "    z = v[1:phi[15]+1,2]\n",
    "\n",
    "    vx = v[phi[15]+2:,0]\n",
    "    vy = v[phi[15]+2:,1]\n",
    "    vz = v[phi[15]+2:,2]\n",
    "\n",
    "    fig = plt.figure(figsize=(12,10))\n",
    "    ax = fig.add_subplot(111, projection='3d')\n",
    "\n",
    "    ax.set_xlim(min(min(x), lx) - 5,max(max(x), lx) + 5)\n",
    "    ax.set_ylim(min(min(y), ly) - 5,max(max(y), ly) + 5)\n",
    "    ax.set_ylim(min(min(z), lz) - 5,max(max(z), lz) + 5)\n",
    "\n",
    "    ax.scatter(lx, ly, lz, marker=\"*\", color = \"b\" )\n",
    "    ax.quiver(lx, ly, lz, lvx, lvy, lvz, length=3, colors='b', linewidth =1)\n",
    "\n",
    "    ax.scatter(x, y, z, marker=\"o\", color = \"r\")\n",
    "    ax.quiver(x, y, z, vx, vy, vz, length=1, colors='k', linewidth =1)\n",
    "\n",
    "    ax.set_xlabel('x axis')\n",
    "    ax.set_ylabel('y axis')\n",
    "    ax.set_zlabel('z axis')\n",
    "\n",
    "\n",
    "    plt.show()"
   ]
  },
  {
   "cell_type": "code",
   "execution_count": 152,
   "metadata": {
    "id": "1b3JVFnvPVgV"
   },
   "outputs": [],
   "source": [
    "def plot_asym_behavior(w, t):\n",
    "\n",
    "  r = np.arange(t+1)\n",
    "\n",
    "  fig = plt.figure(constrained_layout=True, figsize = (16, 9))\n",
    "  gs = fig.add_gridspec(2, 2)\n",
    "\n",
    "  f_ax1 = fig.add_subplot(gs[0, 0])\n",
    "  f_ax1.plot(r, w[:, 0])\n",
    "  f_ax1.set_xlabel(\"time\")\n",
    "  f_ax1.set_ylabel(\"X(t)\")\n",
    "  f_ax1.set_title('$X(t)$')\n",
    "\n",
    "\n",
    "  f_ax2 = fig.add_subplot(gs[0, 1])\n",
    "  f_ax2.plot(r, w[:, 1])\n",
    "  f_ax2.set_xlabel(\"time\")\n",
    "  f_ax2.set_ylabel(\"V(t)\")\n",
    "  f_ax2.set_title('$V(t)$')\n",
    "\n",
    "\n",
    "  f_ax3 = fig.add_subplot(gs[1, 0])\n",
    "  f_ax3.plot(r, w[:, 2], '--', label='$sum(|x_i - x_0|)\\;/\\;(N+1)$')\n",
    "  f_ax3.plot(r, dx_lim * np.ones(t+1), 'k', label='$ln(C^0_rl^0_a/(l^0_rC^0_a))*(l^0_al^0_r/(l^0_a-l^0_r))$')\n",
    "  f_ax3.set_xlabel(\"time\")\n",
    "  f_ax3.set_ylabel(\"Distance\")\n",
    "  f_ax3.set_title('The distance between the agents and the leader')\n",
    "  f_ax3.legend()\n",
    "\n",
    "  f_ax4 = fig.add_subplot(gs[1, 1])\n",
    "  f_ax4.plot(r, w[:, 3], '--', label='$sum(|v_i|)\\;/\\;(N+1)$')\n",
    "  f_ax4.plot(r, v_lim * np.ones(t+1), 'k', label='$sqrt((alpha)/(beta))$')\n",
    "  f_ax4.set_xlabel(\"time\")\n",
    "  f_ax4.set_ylabel(\"mean(|v|)\")\n",
    "  f_ax4.set_title('The mean norm of velocity')\n",
    "  f_ax4.legend()"
   ]
  },
  {
   "cell_type": "markdown",
   "metadata": {
    "id": "bVUI47R0TIUO"
   },
   "source": [
    "# parameters"
   ]
  },
  {
   "cell_type": "code",
   "execution_count": 153,
   "metadata": {
    "id": "qO1IxSZ0uL7Y"
   },
   "outputs": [],
   "source": [
    "params_1 = (0.07 , 0.05 , 1 , 10 , 0.5 , np.cos(1.047) , np.cos(1.57), 10 , 50 , 25 , 1 , 20 , 100 , 50 , 2, 75, 2)\n",
    "\n",
    "params_20 = (0.07 , 0.05 , 1 , 10 , 0.5 , np.cos(1.047) , np.cos(1.57), 10 , 50 , 25 , 1 , 20 , 100 , 50 , 2, 20, 2)\n",
    "\n",
    "params_2 = (0.07, 0.05, 1, 10, 0.5, np.cos(1.047), np.cos(1.57), 10, 50, 25, 1, 50, 10, 20, 2, 61, 2)"
   ]
  },
  {
   "cell_type": "markdown",
   "metadata": {
    "id": "9iWWlQ2Ub0Vp"
   },
   "source": [
    "# Parameter identification"
   ]
  },
  {
   "cell_type": "code",
   "execution_count": 234,
   "metadata": {
    "id": "09LH1AFWg3oH"
   },
   "outputs": [],
   "source": [
    "\n",
    "def objective(phi: np.array):\n",
    "  res = np.zeros(phi.shape[0])\n",
    "  for k in range(phi.shape[0]):\n",
    "    \n",
    "#     phi[k][4:7] = params_20[4:7]\n",
    "#     phi[k][11:13] = params_20[11:13]\n",
    "    phi[k][15:] = params_20[15:]\n",
    "    \n",
    "    temp = run(Y, phi[k], 20, 1)\n",
    "\n",
    "    res[k] = np.linalg.norm(Y_data[:-1] - temp[:-1]) ** 2\n",
    "\n",
    "  return res "
   ]
  },
  {
   "cell_type": "code",
   "execution_count": 235,
   "metadata": {
    "id": "wax6XU-G1n-A"
   },
   "outputs": [],
   "source": [
    "# params = (alpha, beta, gamma, gamma_1, sigma, d1, d2, C0_a, l0_a, C0_r, l0_r, C_a, l_a, C_r, l_r, N, d)"
   ]
  },
  {
   "cell_type": "code",
   "execution_count": 236,
   "metadata": {
    "id": "lEhFjvFXb9WA"
   },
   "outputs": [],
   "source": [
    "Y = init_20(params_20)"
   ]
  },
  {
   "cell_type": "code",
   "execution_count": 237,
   "metadata": {
    "id": "yiPSupT7cIFh",
    "jupyter": {
     "outputs_hidden": true
    }
   },
   "outputs": [],
   "source": [
    "Y_data = run(Y, params_20, 20, 1)"
   ]
  },
  {
   "cell_type": "code",
   "execution_count": null,
   "metadata": {
    "colab": {
     "base_uri": "https://localhost:8080/"
    },
    "id": "z-WW8pI3q_u-",
    "outputId": "db826eb2-e652-496e-82bf-79c7781114c8",
    "scrolled": true
   },
   "outputs": [
    {
     "name": "stderr",
     "output_type": "stream",
     "text": [
      "2021-06-22 01:44:27,097 - pyswarms.single.global_best - INFO - Optimize for 400 iters with {'c1': 0.5, 'c2': 0.9, 'w': 0.9}\n",
      "pyswarms.single.global_best:   5%|▍         |19/400, best_cost=485<ipython-input-144-62c1fbf4fe07>:15: RuntimeWarning: overflow encountered in multiply\n",
      "  Q[j+1] = Q[j] + h/6 * (K_1 + 2*K_2 + 2*K_3 + K_4)\n",
      "pyswarms.single.global_best:  16%|█▌        |62/400, best_cost=485<ipython-input-144-62c1fbf4fe07>:15: RuntimeWarning: overflow encountered in multiply\n",
      "  Q[j+1] = Q[j] + h/6 * (K_1 + 2*K_2 + 2*K_3 + K_4)\n",
      "pyswarms.single.global_best: 100%|█████████▉|398/400, best_cost=99.7"
     ]
    }
   ],
   "source": [
    "%%time\n",
    "\n",
    "# Set-up hyperparameters\n",
    "options = {'c1': 0.5, 'c2': 0.9, 'w':0.9}\n",
    "\n",
    "a=1\n",
    "\n",
    "# Create bounds\n",
    "min_bound = np.zeroes(17)\n",
    "max_bound = 100*np.ones(17)\n",
    "bounds = (min_bound, max_bound)\n",
    "\n",
    "# Call instance of GlobalBestPSO\n",
    "optimizer = ps.single.GlobalBestPSO(n_particles=40, dimensions=17,\n",
    "                                    options=options, init_pos=optimizer.pos_history[-1])\n",
    "# Perform optimization\n",
    "stats = optimizer.optimize(objective, iters=400, n_processes=8)"
   ]
  },
  {
   "cell_type": "code",
   "execution_count": 211,
   "metadata": {},
   "outputs": [
    {
     "data": {
      "text/plain": [
       "(6.888027297825215e-27,\n",
       " array([ 7.00000000e-02, -5.00000000e-02, -1.00000000e+00,  1.00596178e+01,\n",
       "         6.60823217e+00,  8.54698322e-01,  6.24782205e+00,  9.94073549e+00,\n",
       "         5.00000000e+01,  2.48518387e+01,  1.00000000e+00,  4.93381959e+00,\n",
       "         1.44042147e+01,  5.00000000e+01,  2.00000000e+00,  3.10664712e+00,\n",
       "         1.05073417e+00]))"
      ]
     },
     "execution_count": 211,
     "metadata": {},
     "output_type": "execute_result"
    }
   ],
   "source": [
    "stats #2000 iters with c2=0.6 sol for 10 / 1 params fixed: 4, 5, 6, 11, 12             pred8"
   ]
  },
  {
   "cell_type": "code",
   "execution_count": 203,
   "metadata": {},
   "outputs": [
    {
     "data": {
      "text/plain": [
       "(3.260332664781796e-25,\n",
       " array([-7.00000000e-02,  5.00000000e-02,  6.98364155e+00,  8.00372217e+00,\n",
       "         3.44805025e+00,  2.96566042e+00,  2.29276928e+00,  1.24941868e+01,\n",
       "         5.00000000e+01,  3.12354670e+01,  1.00000000e+00,  6.02274822e+00,\n",
       "         3.25341514e-01,  5.00000000e+01,  2.00000000e+00, -6.35039992e-01,\n",
       "         1.52756344e+00]))"
      ]
     },
     "execution_count": 203,
     "metadata": {},
     "output_type": "execute_result"
    }
   ],
   "source": [
    "stats #2000 iters with c2=0.6 sol for 10 / 1  params fixed: 2, 4, 5, 6, 11, 12           pred7"
   ]
  },
  {
   "cell_type": "code",
   "execution_count": 27,
   "metadata": {},
   "outputs": [
    {
     "data": {
      "text/plain": [
       "(12.428925541533408,\n",
       " array([-6.22945345e-03, -4.91148516e-02,  3.59096191e+01,  9.58180670e+00,\n",
       "         2.04074194e+00,  1.87326282e+01,  7.12453121e+00,  1.18784648e+01,\n",
       "         5.37808176e+01, -2.98628288e+01, -9.83289371e-01,  1.28728658e+03,\n",
       "         1.22857504e+04,  5.32944625e+01,  1.87736785e+00,  8.93586071e-01,\n",
       "         6.79171629e+00]))"
      ]
     },
     "execution_count": 27,
     "metadata": {},
     "output_type": "execute_result"
    }
   ],
   "source": [
    "stats #10000 iters with c2=0.6 sol for 10 / 1 all free                                    pred4"
   ]
  },
  {
   "cell_type": "code",
   "execution_count": 36,
   "metadata": {},
   "outputs": [
    {
     "data": {
      "text/plain": [
       "(42.213718407843125,\n",
       " array([-2.16121268e-03,  4.89362517e-02,  1.29742446e+01,  9.41939493e+00,\n",
       "        -2.87798926e+00,  4.12748706e+00,  8.73885537e-04,  1.20566792e+01,\n",
       "         5.31025329e+01,  2.82659154e+01, -1.05571114e+00,  3.72489176e+01,\n",
       "         3.37007086e+02,  5.21699991e+01, -1.92770542e+00, -2.72875464e+00,\n",
       "         2.89887733e+01]))"
      ]
     },
     "execution_count": 36,
     "metadata": {},
     "output_type": "execute_result"
    }
   ],
   "source": [
    "stats #1000 iters with c2=0.7 sol for 10 / 0.25 all free"
   ]
  },
  {
   "cell_type": "code",
   "execution_count": 30,
   "metadata": {},
   "outputs": [
    {
     "data": {
      "text/plain": [
       "(21.85678095739938,\n",
       " array([-9.83347528e-04,  4.87971101e-02,  3.63019297e+01,  9.91217114e+00,\n",
       "         2.02982574e+01,  1.77592612e+00,  5.12077554e+00, -1.14405750e+01,\n",
       "        -5.28330836e+01,  2.33290615e+01, -1.10419518e+00,  6.38597237e+01,\n",
       "        -5.99289953e+02,  5.20420453e+01,  1.93033837e+00,  5.77588124e+00,\n",
       "         9.57405789e+00]))"
      ]
     },
     "execution_count": 30,
     "metadata": {},
     "output_type": "execute_result"
    }
   ],
   "source": [
    "stats #1000 iters with c2=0.7 sol for 10 / 0.5 all free"
   ]
  },
  {
   "cell_type": "code",
   "execution_count": 250,
   "metadata": {
    "collapsed": true
   },
   "outputs": [
    {
     "data": {
      "text/plain": [
       "[<matplotlib.lines.Line2D at 0x7faf73e0d670>]"
      ]
     },
     "execution_count": 250,
     "metadata": {},
     "output_type": "execute_result"
    },
    {
     "data": {
      "image/png": "[encoded data removed]",
      "text/plain": [
       "<Figure size 432x288 with 1 Axes>"
      ]
     },
     "metadata": {},
     "output_type": "display_data"
    }
   ],
   "source": [
    "plt.plot(optimizer.cost_history[175:])\n",
    "# objective(params_pred4)\n",
    "# run(Y,params_pred6,100,0.5, save=True, file=\"test_pred6\")\n",
    "# optimizer.pos_history[-1]"
   ]
  },
  {
   "cell_type": "code",
   "execution_count": 44,
   "metadata": {},
   "outputs": [],
   "source": [
    "params_20   = ( 0.07 ,           0.05 ,           1 ,              10 , \n",
    "                0.5 ,            np.cos(1.047) ,  np.cos(1.57),    10 ,\n",
    "                50 ,             25 ,             1 ,              20 ,\n",
    "                100 ,            50 ,             2,               20,\n",
    "                2)\n",
    "\n",
    "params_pred = ( 6.22712065e-02,  5.06104633e-02,  4.55374230e+00,  1.52257329e+01,\n",
    "                1.31434289e+00,  2.10709514e+00,  3.15172943e+00,  6.65762399e+00,\n",
    "                5.06755363e+01,  2.49981224e+01,  9.86426738e-01,  1.84465740e+01,\n",
    "                1.04021877e+02,  4.99368921e+01,  1.97556702e+00,  20,\n",
    "                2)\n",
    "params_pred2 = ( 2.39064359e-01, 7.68831092e-02, 9.37504712e+00, 2.24346935e+01,\n",
    "                 1.06140789e+01, 2.12767063e-02, 2.26398337e-01, 4.17479246e+00,\n",
    "                 4.65354086e+01, 2.25497370e+01, 1.94129444e+00, 2.64774279e+01,\n",
    "                 9.88482868e+01, 5.05689676e+01, 1.79416162e+00, 20,\n",
    "                 2)\n",
    "\n",
    "params_pred3 = (  4.61665940e-02,  4.72920198e-02,  1.77824176e+00,  3.27155919e+00,\n",
    "                  6.69389722e-01,  5.62934398e-01,  9.44237439e-02,  3.17047517e+01,\n",
    "                  5.30360005e+01,  5.81683321e+01,  1.09202426e+00,  2.92999387e+01,\n",
    "                  1.82094659e+02,  5.04491220e+01,  1.94084459e+00,  20,\n",
    "                  2)\n",
    "\n",
    "params_pred4 = ( 6.22945345e-03,  4.91148516e-02,  3.59096191e+01,  9.58180670e+00,\n",
    "                 2.04074194e+00,  1.87326282e+01,  7.12453121e+00,  1.18784648e+01,\n",
    "                 5.37808176e+01,  2.98628288e+01,  9.83289371e-01,  1.28728658e+03,\n",
    "                 1.22857504e+04,  5.32944625e+01,  1.87736785e+00,  20,\n",
    "                 2)\n",
    "\n",
    "params_pred5 = ( 2.16121268e-03,  4.89362517e-02,  1.29742446e+01,  9.41939493e+00,\n",
    "                 2.87798926e+00,  4.12748706e+00,  8.73885537e-04,  1.20566792e+01,\n",
    "                 5.31025329e+01,  2.82659154e+01,  1.05571114e+00,  3.72489176e+01,\n",
    "                 3.37007086e+02,  5.21699991e+01,  1.92770542e+00,  20,\n",
    "                 2)\n",
    "\n",
    "params_pred6 = ( 9.83347528e-04,  4.87971101e-02,  3.63019297e+01,  9.91217114e+00,\n",
    "                 2.02982574e+01,  1.77592612e+00,  5.12077554e+00,  1.14405750e+01,\n",
    "                 5.28330836e+01,  2.33290615e+01,  1.10419518e+00,  6.38597237e+01,\n",
    "                 5.99289953e+02,  5.20420453e+01,  1.93033837e+00,  20,\n",
    "                 2)\n",
    "\n",
    "params_pred7 = ( 7.00000000e-02,  5.00000000e-02,  1.00000000e+00,  8.00372217e+00,\n",
    "                 5.00000000e-01,  np.cos(1.047) ,  np.cos(1.57)  ,  1.24941868e+01,\n",
    "                 5.00000000e+01,  3.12354670e+01,  1.00000000e+00,  2.00000000e+01,\n",
    "                 1.00000000e+02,  5.00000000e+01,  2.00000000e+00,  20,\n",
    "                 2 )\n",
    "\n",
    "params_pred8 = ( 7.00000000e-02, -5.00000000e-02, -1.00000000e+00,  1.00596178e+01,\n",
    "                 5.00000000e-01,  np.cos(1.047) ,  np.cos(1.57)  ,  9.94073549e+00,\n",
    "                 5.00000000e+01,  2.48518387e+01,  1.00000000e+00,  2.00000000e+01,\n",
    "                 1.00000000e+02,  5.00000000e+01,  2.00000000e+00,  20,\n",
    "                 2 )"
   ]
  },
  {
   "cell_type": "markdown",
   "metadata": {
    "id": "IBhJNP1t2t7E"
   },
   "source": [
    "# test"
   ]
  },
  {
   "cell_type": "code",
   "execution_count": 51,
   "metadata": {
    "colab": {
     "base_uri": "https://localhost:8080/"
    },
    "id": "d_B5uXJP2vHU",
    "outputId": "029e3c29-49fb-4bfe-b1a1-76192cb48406"
   },
   "outputs": [
    {
     "data": {
      "text/plain": [
       "array([175.47627963])"
      ]
     },
     "execution_count": 51,
     "metadata": {},
     "output_type": "execute_result"
    }
   ],
   "source": [
    "objective(np.array([[ 6.75089399e-02,  4.83759348e-02,  2.97404484e+00,  4.49835368e+00,\n",
    " -2.18877975e-01,np.cos(1.047), np.cos(1.57), 2.21491142e+01,  4.94508429e+01,  2.54305379e+00,\n",
    "  3.15316226e+00, -3.02071074e+00,  3.07831543e+00,  2.32741483e+01,\n",
    "  4.73761734e-01, 75, 2]]))\n",
    "\n",
    "# 131.14808533       175.47627963  "
   ]
  },
  {
   "cell_type": "code",
   "execution_count": 37,
   "metadata": {
    "colab": {
     "base_uri": "https://localhost:8080/"
    },
    "id": "VJJYqkqp3Dmt",
    "outputId": "a4dfac77-713a-4e0e-c606-7a681714115e"
   },
   "outputs": [
    {
     "data": {
      "text/plain": [
       "array([0.05067263])"
      ]
     },
     "execution_count": 37,
     "metadata": {},
     "output_type": "execute_result"
    }
   ],
   "source": [
    "objective(np.array([[2.85847473e-02, 4.52504452e-02, 2.01671110e-01 ,1.02330002e+01 , 0.5, np.cos(1.047), np.cos(1.57), 10 , 50 , 25 , 1, 20 , 100 , 50 , 2 , 75, 2 ]]))\n",
    "\n",
    "# 0.05067263"
   ]
  },
  {
   "cell_type": "code",
   "execution_count": null,
   "metadata": {},
   "outputs": [],
   "source": [
    "a = [1, 2, 3, 4, 5]\n",
    "a[4:]"
   ]
  },
  {
   "cell_type": "code",
   "execution_count": 209,
   "metadata": {},
   "outputs": [
    {
     "data": {
      "text/plain": [
       "(6.888027297825215e-27,\n",
       " array([ 7.00000000e-02, -5.00000000e-02, -1.00000000e+00,  1.00596178e+01,\n",
       "         6.60823217e+00,  8.54698322e-01,  6.24782205e+00,  9.94073549e+00,\n",
       "         5.00000000e+01,  2.48518387e+01,  1.00000000e+00,  4.93381959e+00,\n",
       "         1.44042147e+01,  5.00000000e+01,  2.00000000e+00,  3.10664712e+00,\n",
       "         1.05073417e+00]))"
      ]
     },
     "execution_count": 209,
     "metadata": {},
     "output_type": "execute_result"
    }
   ],
   "source": [
    "stats"
   ]
  },
  {
   "cell_type": "code",
   "execution_count": 138,
   "metadata": {},
   "outputs": [
    {
     "data": {
      "text/plain": [
       "array([3.70009794e-13])"
      ]
     },
     "execution_count": 138,
     "metadata": {},
     "output_type": "execute_result"
    }
   ],
   "source": [
    "p = (0.07 , 0.05 , 1 , 5.66987287 , 0.5 , np.cos(1.047) , np.cos(1.57), 17.6370797 , 50 , 44.0926981 , 1 , 20 , 100 , 50 , 2, 20, 2)\n",
    "\n",
    "objective(np.array([p]))"
   ]
  },
  {
   "cell_type": "code",
   "execution_count": 172,
   "metadata": {},
   "outputs": [
    {
     "data": {
      "text/plain": [
       "array([3.46801925e-13])"
      ]
     },
     "execution_count": 172,
     "metadata": {},
     "output_type": "execute_result"
    }
   ],
   "source": [
    "pp = (0.07 , 0.05 , 1 , 9.41722434 , 0.5 , np.cos(1.047) , np.cos(1.57), 10.6188402 , 50 , 26.5471004 , 1 , 20 , 100 , 50 , 2, 20, 2)\n",
    "\n",
    "objective(np.array([[7.00000000e-02,  5.00000000e-02,  1.00000000e+00,  9.41722434e+00,\n",
    "                     5.00000000e-01,  5.00000000e-01,  7.00000000e-04,  1.06188402e+01,\n",
    "                     5.00000000e+01,  2.65471004e+01,  1.00000000e+00,  20,\n",
    "                     100           ,  5.00000000e+01,  2.00000000e+00,  20,\n",
    "                     2]]))"
   ]
  },
  {
   "cell_type": "code",
   "execution_count": 210,
   "metadata": {},
   "outputs": [
    {
     "data": {
      "text/plain": [
       "array([6.8880273e-27])"
      ]
     },
     "execution_count": 210,
     "metadata": {},
     "output_type": "execute_result"
    }
   ],
   "source": [
    "p = [stats[1][i] for i in range(17)]\n",
    "\n",
    "objective(np.array([p]))"
   ]
  }
 ],
 "metadata": {
  "colab": {
   "name": "Cucker-Smale model.ipynb",
   "provenance": []
  },
  "kernelspec": {
   "display_name": "Python 3",
   "language": "python",
   "name": "python3"
  },
  "language_info": {
   "codemirror_mode": {
    "name": "ipython",
    "version": 3
   },
   "file_extension": ".py",
   "mimetype": "text/x-python",
   "name": "python",
   "nbconvert_exporter": "python",
   "pygments_lexer": "ipython3",
   "version": "3.8.6"
  }
 },
 "nbformat": 4,
 "nbformat_minor": 4
}
